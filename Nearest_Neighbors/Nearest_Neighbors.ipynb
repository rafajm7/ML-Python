{
 "cells": [
  {
   "cell_type": "markdown",
   "metadata": {},
   "source": [
    "# Ejercicio 1"
   ]
  },
  {
   "cell_type": "markdown",
   "metadata": {},
   "source": [
    "Para este ejercicio vamos a construir las observaciones dadas en el enunciado de la práctica como arrays y vamos a calcular la predicción para el vector de test (0,0,0) usando únicamente python con `numpy` (sin `sklearn`). "
   ]
  },
  {
   "cell_type": "code",
   "execution_count": null,
   "metadata": {},
   "outputs": [],
   "source": [
    "import numpy as np\n",
    "from __future__ import division\n",
    "\n",
    "training_set = np.array([[0,3,2,1], [3,0,3,0], [0,3,-1,0], [3,0,0,1], [1,2,1,1], [2,1,0,0]])\n",
    "X_train = training_set[:,0:training_set.shape[1]-1]\n",
    "Y_train = training_set[:,training_set.shape[1]-1]\n",
    "X_test = [0,0,0]"
   ]
  },
  {
   "cell_type": "markdown",
   "metadata": {},
   "source": [
    "Calculamos las distancias entre cada observación y el vector de test utilizando la norma 2, que se puede aplicar directamente usando `numpy` con la función `linalg.norm`."
   ]
  },
  {
   "cell_type": "code",
   "execution_count": 2,
   "metadata": {},
   "outputs": [
    {
     "name": "stdout",
     "output_type": "stream",
     "text": [
      "Distancia entre la observación  0  y el punto de test:  3.605551275463989\n",
      "Distancia entre la observación  1  y el punto de test:  4.242640687119285\n",
      "Distancia entre la observación  2  y el punto de test:  3.1622776601683795\n",
      "Distancia entre la observación  3  y el punto de test:  3.0\n",
      "Distancia entre la observación  4  y el punto de test:  2.449489742783178\n",
      "Distancia entre la observación  5  y el punto de test:  2.23606797749979\n"
     ]
    }
   ],
   "source": [
    "distancias = []\n",
    "for i in range(X_train.shape[0]):\n",
    "    distancia = np.linalg.norm(X_train[i:i+1]- X_test)\n",
    "    print \"Distancia entre la observación \", i, \" y el punto de test: \", distancia\n",
    "    distancias.append(distancia)"
   ]
  },
  {
   "cell_type": "markdown",
   "metadata": {},
   "source": [
    "Para obtener la predicción para los apartados b) y c) del ejercicio, creamos una función que obtiene los K elementos más cercanos al vector de test usando `np.argsort` y obtenemos la función indicador para cuando `y = 0` y para cuando `y = 1` con respecto a esos K vecinos. Por último, calculamos la probabilidad de que la variable de salida sea 0 ó 1 usando la fórmula:\n",
    "\n",
    "$$Pr(Y=j|X = x_0) = \\frac{1}{K}\\sum_{i\\in\\mathcal{N}_0}I(y_i = j),$$\n",
    "siendo $j=\\{0,1\\}$, $K = 3$, $x_0 = (0,0,0)$ el punto de test y $\\mathcal{N}_0$ el conjunto de índices correspondientes a los $K$ vecinos más cercanos. El valor devuelto por la función es el valor de `y` cuya probabilidad sea máxima."
   ]
  },
  {
   "cell_type": "code",
   "execution_count": 3,
   "metadata": {},
   "outputs": [],
   "source": [
    "def get_prediction_knn(K,distancias):\n",
    "    vecinos = np.argsort(distancias)[0:K]\n",
    "    indicator_0 = [1 if Y_train[i] == 0 else 0 for i in vecinos]\n",
    "    indicator_1 = [1 if Y_train[i] == 1 else 0 for i in vecinos]\n",
    "    probs = [(1/K)*sum(indicator_0),(1/K)*sum(indicator_1)]\n",
    "    return np.argmax(probs)"
   ]
  },
  {
   "cell_type": "markdown",
   "metadata": {},
   "source": [
    "Aplicamos la función a K=1 y K=3 y obtenemos las predicciones."
   ]
  },
  {
   "cell_type": "code",
   "execution_count": 4,
   "metadata": {},
   "outputs": [
    {
     "name": "stdout",
     "output_type": "stream",
     "text": [
      "La predicción para K = 1 es Y = 0\n",
      "La predicción para K = 3 es Y = 1\n"
     ]
    }
   ],
   "source": [
    "print \"La predicción para K = 1 es Y =\", get_prediction_knn(1,distancias)\n",
    "print \"La predicción para K = 3 es Y =\", get_prediction_knn(3,distancias)"
   ]
  },
  {
   "cell_type": "markdown",
   "metadata": {},
   "source": [
    "# Ejercicio 2"
   ]
  },
  {
   "cell_type": "markdown",
   "metadata": {},
   "source": [
    "Importamos las librerías necesarias para la realización de los ejercicios 2 y 3."
   ]
  },
  {
   "cell_type": "code",
   "execution_count": 5,
   "metadata": {},
   "outputs": [
    {
     "name": "stderr",
     "output_type": "stream",
     "text": [
      "/usr/local/lib/python2.7/dist-packages/sklearn/cross_validation.py:44: DeprecationWarning: This module was deprecated in version 0.18 in favor of the model_selection module into which all the refactored classes and functions are moved. Also note that the interface of the new CV iterators are different from that of this module. This module will be removed in 0.20.\n",
      "  \"This module will be removed in 0.20.\", DeprecationWarning)\n",
      "/usr/local/lib/python2.7/dist-packages/sklearn/grid_search.py:43: DeprecationWarning: This module was deprecated in version 0.18 in favor of the model_selection module into which all the refactored classes and functions are moved. This module will be removed in 0.20.\n",
      "  DeprecationWarning)\n"
     ]
    }
   ],
   "source": [
    "from sklearn import preprocessing, cross_validation, neighbors\n",
    "from sklearn.grid_search import GridSearchCV\n",
    "from sklearn.preprocessing import Imputer\n",
    "from sklearn.externals import joblib\n",
    "import sklearn.metrics as metrics\n",
    "\n",
    "import numpy as np\n",
    "%matplotlib inline\n",
    "import matplotlib.pyplot as plt\n",
    "from matplotlib.colors import ListedColormap\n",
    "\n",
    "import pandas as pd\n",
    "import seaborn as sns\n",
    "import scipy.stats as stats"
   ]
  },
  {
   "cell_type": "markdown",
   "metadata": {},
   "source": [
    "Comenzamos por el análisis exploratorio, para lo que hemos utilizado la librería `pandas`."
   ]
  },
  {
   "cell_type": "code",
   "execution_count": 6,
   "metadata": {},
   "outputs": [
    {
     "data": {
      "text/html": [
       "<div>\n",
       "<style scoped>\n",
       "    .dataframe tbody tr th:only-of-type {\n",
       "        vertical-align: middle;\n",
       "    }\n",
       "\n",
       "    .dataframe tbody tr th {\n",
       "        vertical-align: top;\n",
       "    }\n",
       "\n",
       "    .dataframe thead th {\n",
       "        text-align: right;\n",
       "    }\n",
       "</style>\n",
       "<table border=\"1\" class=\"dataframe\">\n",
       "  <thead>\n",
       "    <tr style=\"text-align: right;\">\n",
       "      <th></th>\n",
       "      <th>Recency</th>\n",
       "      <th>Frequency</th>\n",
       "      <th>Monetary_Value</th>\n",
       "      <th>Time</th>\n",
       "      <th>Donated_Blood</th>\n",
       "    </tr>\n",
       "  </thead>\n",
       "  <tbody>\n",
       "    <tr>\n",
       "      <th>0</th>\n",
       "      <td>2</td>\n",
       "      <td>50</td>\n",
       "      <td>12500</td>\n",
       "      <td>98</td>\n",
       "      <td>1</td>\n",
       "    </tr>\n",
       "    <tr>\n",
       "      <th>1</th>\n",
       "      <td>0</td>\n",
       "      <td>13</td>\n",
       "      <td>3250</td>\n",
       "      <td>28</td>\n",
       "      <td>1</td>\n",
       "    </tr>\n",
       "    <tr>\n",
       "      <th>2</th>\n",
       "      <td>1</td>\n",
       "      <td>16</td>\n",
       "      <td>4000</td>\n",
       "      <td>35</td>\n",
       "      <td>1</td>\n",
       "    </tr>\n",
       "    <tr>\n",
       "      <th>3</th>\n",
       "      <td>2</td>\n",
       "      <td>20</td>\n",
       "      <td>5000</td>\n",
       "      <td>45</td>\n",
       "      <td>1</td>\n",
       "    </tr>\n",
       "    <tr>\n",
       "      <th>4</th>\n",
       "      <td>1</td>\n",
       "      <td>24</td>\n",
       "      <td>6000</td>\n",
       "      <td>77</td>\n",
       "      <td>0</td>\n",
       "    </tr>\n",
       "    <tr>\n",
       "      <th>5</th>\n",
       "      <td>4</td>\n",
       "      <td>4</td>\n",
       "      <td>1000</td>\n",
       "      <td>4</td>\n",
       "      <td>0</td>\n",
       "    </tr>\n",
       "    <tr>\n",
       "      <th>6</th>\n",
       "      <td>2</td>\n",
       "      <td>7</td>\n",
       "      <td>1750</td>\n",
       "      <td>14</td>\n",
       "      <td>1</td>\n",
       "    </tr>\n",
       "    <tr>\n",
       "      <th>7</th>\n",
       "      <td>1</td>\n",
       "      <td>12</td>\n",
       "      <td>3000</td>\n",
       "      <td>35</td>\n",
       "      <td>0</td>\n",
       "    </tr>\n",
       "    <tr>\n",
       "      <th>8</th>\n",
       "      <td>2</td>\n",
       "      <td>9</td>\n",
       "      <td>2250</td>\n",
       "      <td>22</td>\n",
       "      <td>1</td>\n",
       "    </tr>\n",
       "    <tr>\n",
       "      <th>9</th>\n",
       "      <td>5</td>\n",
       "      <td>46</td>\n",
       "      <td>11500</td>\n",
       "      <td>98</td>\n",
       "      <td>1</td>\n",
       "    </tr>\n",
       "    <tr>\n",
       "      <th>10</th>\n",
       "      <td>4</td>\n",
       "      <td>23</td>\n",
       "      <td>5750</td>\n",
       "      <td>58</td>\n",
       "      <td>0</td>\n",
       "    </tr>\n",
       "    <tr>\n",
       "      <th>11</th>\n",
       "      <td>0</td>\n",
       "      <td>3</td>\n",
       "      <td>750</td>\n",
       "      <td>4</td>\n",
       "      <td>0</td>\n",
       "    </tr>\n",
       "    <tr>\n",
       "      <th>12</th>\n",
       "      <td>2</td>\n",
       "      <td>10</td>\n",
       "      <td>2500</td>\n",
       "      <td>28</td>\n",
       "      <td>1</td>\n",
       "    </tr>\n",
       "    <tr>\n",
       "      <th>13</th>\n",
       "      <td>1</td>\n",
       "      <td>13</td>\n",
       "      <td>3250</td>\n",
       "      <td>47</td>\n",
       "      <td>0</td>\n",
       "    </tr>\n",
       "    <tr>\n",
       "      <th>14</th>\n",
       "      <td>2</td>\n",
       "      <td>6</td>\n",
       "      <td>1500</td>\n",
       "      <td>15</td>\n",
       "      <td>1</td>\n",
       "    </tr>\n",
       "    <tr>\n",
       "      <th>15</th>\n",
       "      <td>2</td>\n",
       "      <td>5</td>\n",
       "      <td>1250</td>\n",
       "      <td>11</td>\n",
       "      <td>1</td>\n",
       "    </tr>\n",
       "    <tr>\n",
       "      <th>16</th>\n",
       "      <td>2</td>\n",
       "      <td>14</td>\n",
       "      <td>3500</td>\n",
       "      <td>48</td>\n",
       "      <td>1</td>\n",
       "    </tr>\n",
       "    <tr>\n",
       "      <th>17</th>\n",
       "      <td>2</td>\n",
       "      <td>15</td>\n",
       "      <td>3750</td>\n",
       "      <td>49</td>\n",
       "      <td>1</td>\n",
       "    </tr>\n",
       "    <tr>\n",
       "      <th>18</th>\n",
       "      <td>2</td>\n",
       "      <td>6</td>\n",
       "      <td>1500</td>\n",
       "      <td>15</td>\n",
       "      <td>1</td>\n",
       "    </tr>\n",
       "    <tr>\n",
       "      <th>19</th>\n",
       "      <td>2</td>\n",
       "      <td>3</td>\n",
       "      <td>750</td>\n",
       "      <td>4</td>\n",
       "      <td>1</td>\n",
       "    </tr>\n",
       "    <tr>\n",
       "      <th>20</th>\n",
       "      <td>2</td>\n",
       "      <td>3</td>\n",
       "      <td>750</td>\n",
       "      <td>4</td>\n",
       "      <td>1</td>\n",
       "    </tr>\n",
       "    <tr>\n",
       "      <th>21</th>\n",
       "      <td>4</td>\n",
       "      <td>11</td>\n",
       "      <td>2750</td>\n",
       "      <td>28</td>\n",
       "      <td>0</td>\n",
       "    </tr>\n",
       "    <tr>\n",
       "      <th>22</th>\n",
       "      <td>2</td>\n",
       "      <td>6</td>\n",
       "      <td>1500</td>\n",
       "      <td>16</td>\n",
       "      <td>1</td>\n",
       "    </tr>\n",
       "    <tr>\n",
       "      <th>23</th>\n",
       "      <td>2</td>\n",
       "      <td>6</td>\n",
       "      <td>1500</td>\n",
       "      <td>16</td>\n",
       "      <td>1</td>\n",
       "    </tr>\n",
       "    <tr>\n",
       "      <th>24</th>\n",
       "      <td>9</td>\n",
       "      <td>9</td>\n",
       "      <td>2250</td>\n",
       "      <td>16</td>\n",
       "      <td>0</td>\n",
       "    </tr>\n",
       "    <tr>\n",
       "      <th>25</th>\n",
       "      <td>4</td>\n",
       "      <td>14</td>\n",
       "      <td>3500</td>\n",
       "      <td>40</td>\n",
       "      <td>0</td>\n",
       "    </tr>\n",
       "    <tr>\n",
       "      <th>26</th>\n",
       "      <td>4</td>\n",
       "      <td>6</td>\n",
       "      <td>1500</td>\n",
       "      <td>14</td>\n",
       "      <td>0</td>\n",
       "    </tr>\n",
       "    <tr>\n",
       "      <th>27</th>\n",
       "      <td>4</td>\n",
       "      <td>12</td>\n",
       "      <td>3000</td>\n",
       "      <td>34</td>\n",
       "      <td>1</td>\n",
       "    </tr>\n",
       "    <tr>\n",
       "      <th>28</th>\n",
       "      <td>4</td>\n",
       "      <td>5</td>\n",
       "      <td>1250</td>\n",
       "      <td>11</td>\n",
       "      <td>1</td>\n",
       "    </tr>\n",
       "    <tr>\n",
       "      <th>29</th>\n",
       "      <td>4</td>\n",
       "      <td>8</td>\n",
       "      <td>2000</td>\n",
       "      <td>21</td>\n",
       "      <td>0</td>\n",
       "    </tr>\n",
       "    <tr>\n",
       "      <th>...</th>\n",
       "      <td>...</td>\n",
       "      <td>...</td>\n",
       "      <td>...</td>\n",
       "      <td>...</td>\n",
       "      <td>...</td>\n",
       "    </tr>\n",
       "    <tr>\n",
       "      <th>718</th>\n",
       "      <td>21</td>\n",
       "      <td>3</td>\n",
       "      <td>750</td>\n",
       "      <td>35</td>\n",
       "      <td>0</td>\n",
       "    </tr>\n",
       "    <tr>\n",
       "      <th>719</th>\n",
       "      <td>23</td>\n",
       "      <td>8</td>\n",
       "      <td>2000</td>\n",
       "      <td>69</td>\n",
       "      <td>0</td>\n",
       "    </tr>\n",
       "    <tr>\n",
       "      <th>720</th>\n",
       "      <td>21</td>\n",
       "      <td>3</td>\n",
       "      <td>750</td>\n",
       "      <td>38</td>\n",
       "      <td>0</td>\n",
       "    </tr>\n",
       "    <tr>\n",
       "      <th>721</th>\n",
       "      <td>23</td>\n",
       "      <td>3</td>\n",
       "      <td>750</td>\n",
       "      <td>35</td>\n",
       "      <td>0</td>\n",
       "    </tr>\n",
       "    <tr>\n",
       "      <th>722</th>\n",
       "      <td>21</td>\n",
       "      <td>3</td>\n",
       "      <td>750</td>\n",
       "      <td>40</td>\n",
       "      <td>0</td>\n",
       "    </tr>\n",
       "    <tr>\n",
       "      <th>723</th>\n",
       "      <td>23</td>\n",
       "      <td>2</td>\n",
       "      <td>500</td>\n",
       "      <td>28</td>\n",
       "      <td>0</td>\n",
       "    </tr>\n",
       "    <tr>\n",
       "      <th>724</th>\n",
       "      <td>21</td>\n",
       "      <td>1</td>\n",
       "      <td>250</td>\n",
       "      <td>21</td>\n",
       "      <td>0</td>\n",
       "    </tr>\n",
       "    <tr>\n",
       "      <th>725</th>\n",
       "      <td>21</td>\n",
       "      <td>1</td>\n",
       "      <td>250</td>\n",
       "      <td>21</td>\n",
       "      <td>0</td>\n",
       "    </tr>\n",
       "    <tr>\n",
       "      <th>726</th>\n",
       "      <td>25</td>\n",
       "      <td>6</td>\n",
       "      <td>1500</td>\n",
       "      <td>50</td>\n",
       "      <td>0</td>\n",
       "    </tr>\n",
       "    <tr>\n",
       "      <th>727</th>\n",
       "      <td>21</td>\n",
       "      <td>1</td>\n",
       "      <td>250</td>\n",
       "      <td>21</td>\n",
       "      <td>0</td>\n",
       "    </tr>\n",
       "    <tr>\n",
       "      <th>728</th>\n",
       "      <td>21</td>\n",
       "      <td>1</td>\n",
       "      <td>250</td>\n",
       "      <td>21</td>\n",
       "      <td>0</td>\n",
       "    </tr>\n",
       "    <tr>\n",
       "      <th>729</th>\n",
       "      <td>23</td>\n",
       "      <td>3</td>\n",
       "      <td>750</td>\n",
       "      <td>39</td>\n",
       "      <td>0</td>\n",
       "    </tr>\n",
       "    <tr>\n",
       "      <th>730</th>\n",
       "      <td>21</td>\n",
       "      <td>2</td>\n",
       "      <td>500</td>\n",
       "      <td>33</td>\n",
       "      <td>0</td>\n",
       "    </tr>\n",
       "    <tr>\n",
       "      <th>731</th>\n",
       "      <td>14</td>\n",
       "      <td>3</td>\n",
       "      <td>750</td>\n",
       "      <td>79</td>\n",
       "      <td>0</td>\n",
       "    </tr>\n",
       "    <tr>\n",
       "      <th>732</th>\n",
       "      <td>23</td>\n",
       "      <td>1</td>\n",
       "      <td>250</td>\n",
       "      <td>23</td>\n",
       "      <td>1</td>\n",
       "    </tr>\n",
       "    <tr>\n",
       "      <th>733</th>\n",
       "      <td>23</td>\n",
       "      <td>1</td>\n",
       "      <td>250</td>\n",
       "      <td>23</td>\n",
       "      <td>0</td>\n",
       "    </tr>\n",
       "    <tr>\n",
       "      <th>734</th>\n",
       "      <td>23</td>\n",
       "      <td>1</td>\n",
       "      <td>250</td>\n",
       "      <td>23</td>\n",
       "      <td>0</td>\n",
       "    </tr>\n",
       "    <tr>\n",
       "      <th>735</th>\n",
       "      <td>23</td>\n",
       "      <td>1</td>\n",
       "      <td>250</td>\n",
       "      <td>23</td>\n",
       "      <td>0</td>\n",
       "    </tr>\n",
       "    <tr>\n",
       "      <th>736</th>\n",
       "      <td>23</td>\n",
       "      <td>1</td>\n",
       "      <td>250</td>\n",
       "      <td>23</td>\n",
       "      <td>0</td>\n",
       "    </tr>\n",
       "    <tr>\n",
       "      <th>737</th>\n",
       "      <td>23</td>\n",
       "      <td>1</td>\n",
       "      <td>250</td>\n",
       "      <td>23</td>\n",
       "      <td>0</td>\n",
       "    </tr>\n",
       "    <tr>\n",
       "      <th>738</th>\n",
       "      <td>23</td>\n",
       "      <td>1</td>\n",
       "      <td>250</td>\n",
       "      <td>23</td>\n",
       "      <td>0</td>\n",
       "    </tr>\n",
       "    <tr>\n",
       "      <th>739</th>\n",
       "      <td>23</td>\n",
       "      <td>4</td>\n",
       "      <td>1000</td>\n",
       "      <td>52</td>\n",
       "      <td>0</td>\n",
       "    </tr>\n",
       "    <tr>\n",
       "      <th>740</th>\n",
       "      <td>23</td>\n",
       "      <td>1</td>\n",
       "      <td>250</td>\n",
       "      <td>23</td>\n",
       "      <td>0</td>\n",
       "    </tr>\n",
       "    <tr>\n",
       "      <th>741</th>\n",
       "      <td>23</td>\n",
       "      <td>7</td>\n",
       "      <td>1750</td>\n",
       "      <td>88</td>\n",
       "      <td>0</td>\n",
       "    </tr>\n",
       "    <tr>\n",
       "      <th>742</th>\n",
       "      <td>16</td>\n",
       "      <td>3</td>\n",
       "      <td>750</td>\n",
       "      <td>86</td>\n",
       "      <td>0</td>\n",
       "    </tr>\n",
       "    <tr>\n",
       "      <th>743</th>\n",
       "      <td>23</td>\n",
       "      <td>2</td>\n",
       "      <td>500</td>\n",
       "      <td>38</td>\n",
       "      <td>0</td>\n",
       "    </tr>\n",
       "    <tr>\n",
       "      <th>744</th>\n",
       "      <td>21</td>\n",
       "      <td>2</td>\n",
       "      <td>500</td>\n",
       "      <td>52</td>\n",
       "      <td>0</td>\n",
       "    </tr>\n",
       "    <tr>\n",
       "      <th>745</th>\n",
       "      <td>23</td>\n",
       "      <td>3</td>\n",
       "      <td>750</td>\n",
       "      <td>62</td>\n",
       "      <td>0</td>\n",
       "    </tr>\n",
       "    <tr>\n",
       "      <th>746</th>\n",
       "      <td>39</td>\n",
       "      <td>1</td>\n",
       "      <td>250</td>\n",
       "      <td>39</td>\n",
       "      <td>0</td>\n",
       "    </tr>\n",
       "    <tr>\n",
       "      <th>747</th>\n",
       "      <td>72</td>\n",
       "      <td>1</td>\n",
       "      <td>250</td>\n",
       "      <td>72</td>\n",
       "      <td>0</td>\n",
       "    </tr>\n",
       "  </tbody>\n",
       "</table>\n",
       "<p>748 rows × 5 columns</p>\n",
       "</div>"
      ],
      "text/plain": [
       "     Recency  Frequency  Monetary_Value  Time  Donated_Blood\n",
       "0          2         50           12500    98              1\n",
       "1          0         13            3250    28              1\n",
       "2          1         16            4000    35              1\n",
       "3          2         20            5000    45              1\n",
       "4          1         24            6000    77              0\n",
       "5          4          4            1000     4              0\n",
       "6          2          7            1750    14              1\n",
       "7          1         12            3000    35              0\n",
       "8          2          9            2250    22              1\n",
       "9          5         46           11500    98              1\n",
       "10         4         23            5750    58              0\n",
       "11         0          3             750     4              0\n",
       "12         2         10            2500    28              1\n",
       "13         1         13            3250    47              0\n",
       "14         2          6            1500    15              1\n",
       "15         2          5            1250    11              1\n",
       "16         2         14            3500    48              1\n",
       "17         2         15            3750    49              1\n",
       "18         2          6            1500    15              1\n",
       "19         2          3             750     4              1\n",
       "20         2          3             750     4              1\n",
       "21         4         11            2750    28              0\n",
       "22         2          6            1500    16              1\n",
       "23         2          6            1500    16              1\n",
       "24         9          9            2250    16              0\n",
       "25         4         14            3500    40              0\n",
       "26         4          6            1500    14              0\n",
       "27         4         12            3000    34              1\n",
       "28         4          5            1250    11              1\n",
       "29         4          8            2000    21              0\n",
       "..       ...        ...             ...   ...            ...\n",
       "718       21          3             750    35              0\n",
       "719       23          8            2000    69              0\n",
       "720       21          3             750    38              0\n",
       "721       23          3             750    35              0\n",
       "722       21          3             750    40              0\n",
       "723       23          2             500    28              0\n",
       "724       21          1             250    21              0\n",
       "725       21          1             250    21              0\n",
       "726       25          6            1500    50              0\n",
       "727       21          1             250    21              0\n",
       "728       21          1             250    21              0\n",
       "729       23          3             750    39              0\n",
       "730       21          2             500    33              0\n",
       "731       14          3             750    79              0\n",
       "732       23          1             250    23              1\n",
       "733       23          1             250    23              0\n",
       "734       23          1             250    23              0\n",
       "735       23          1             250    23              0\n",
       "736       23          1             250    23              0\n",
       "737       23          1             250    23              0\n",
       "738       23          1             250    23              0\n",
       "739       23          4            1000    52              0\n",
       "740       23          1             250    23              0\n",
       "741       23          7            1750    88              0\n",
       "742       16          3             750    86              0\n",
       "743       23          2             500    38              0\n",
       "744       21          2             500    52              0\n",
       "745       23          3             750    62              0\n",
       "746       39          1             250    39              0\n",
       "747       72          1             250    72              0\n",
       "\n",
       "[748 rows x 5 columns]"
      ]
     },
     "execution_count": 6,
     "metadata": {},
     "output_type": "execute_result"
    }
   ],
   "source": [
    "df = pd.read_csv('../datos/bloodTransfusion.data', \n",
    "                 sep=\",\", \n",
    "                 skiprows=1, \n",
    "                 names=['Recency','Frequency', 'Monetary_Value', 'Time', 'Donated_Blood'])\n",
    "df"
   ]
  },
  {
   "cell_type": "markdown",
   "metadata": {},
   "source": [
    "Tenemos 4 variables de entrada: Recency, Frequency, Monetary Value y Time, todas de tipo entero. Por otro lado, la variable de salida es Donated_Blood, que indica si la persona correspondiente a cada muestra donó sangre o no."
   ]
  },
  {
   "cell_type": "code",
   "execution_count": 7,
   "metadata": {},
   "outputs": [
    {
     "name": "stdout",
     "output_type": "stream",
     "text": [
      "Número de instancias en el dataset:  748\n",
      "\n",
      "\n",
      "Variables del dataset y sus tipos: \n",
      "Recency           int64\n",
      "Frequency         int64\n",
      "Monetary_Value    int64\n",
      "Time              int64\n",
      "Donated_Blood     int64\n",
      "dtype: object\n",
      "\n",
      "\n",
      "Clases de la variable de salida: [1 0]\n"
     ]
    }
   ],
   "source": [
    "print \"Número de instancias en el dataset: \", df.shape[0]\n",
    "print \"\\n\\nVariables del dataset y sus tipos: \\n\", df.dtypes\n",
    "print \"\\n\\nClases de la variable de salida:\", df.Donated_Blood.unique()"
   ]
  },
  {
   "cell_type": "markdown",
   "metadata": {},
   "source": [
    "Con este comando obtenemos que en el conjunto no hay ningún valor perdido en todo el dataframe."
   ]
  },
  {
   "cell_type": "code",
   "execution_count": 8,
   "metadata": {},
   "outputs": [
    {
     "data": {
      "text/plain": [
       "False"
      ]
     },
     "execution_count": 8,
     "metadata": {},
     "output_type": "execute_result"
    }
   ],
   "source": [
    "df.isna().values.any()"
   ]
  },
  {
   "cell_type": "markdown",
   "metadata": {},
   "source": [
    "A continuación mostramos la distribución de las variables de entrada. Es interesante comprobar que las variables `Frequency` y `Monetary_Value` son prácticamente idénticas, y como veremos más adelante tienen una correlación de 1."
   ]
  },
  {
   "cell_type": "code",
   "execution_count": 9,
   "metadata": {},
   "outputs": [
    {
     "data": {
      "text/plain": [
       "array([<matplotlib.axes._subplots.AxesSubplot object at 0x7f2263f6ae90>],\n",
       "      dtype=object)"
      ]
     },
     "execution_count": 9,
     "metadata": {},
     "output_type": "execute_result"
    },
    {
     "data": {
      "image/png": "[encoded data removed]",
      "text/plain": [
       "<Figure size 1008x576 with 4 Axes>"
      ]
     },
     "metadata": {},
     "output_type": "display_data"
    }
   ],
   "source": [
    "fig, axs = plt.subplots(nrows=2, ncols=2, figsize=(14, 8))\n",
    "df.hist(column='Recency',bins=20, ax=axs[0][0])\n",
    "df.hist(column='Frequency',bins=20, ax=axs[0][1])\n",
    "df.hist(column='Monetary_Value',bins=20, ax=axs[1][0])\n",
    "df.hist(column='Time',bins=20, ax=axs[1][1])"
   ]
  },
  {
   "cell_type": "markdown",
   "metadata": {},
   "source": [
    "Distribución de la variable de salida. Observamos que el número de ceros es mucho mayor que el de unos."
   ]
  },
  {
   "cell_type": "code",
   "execution_count": 10,
   "metadata": {},
   "outputs": [
    {
     "data": {
      "text/plain": [
       "array([[<matplotlib.axes._subplots.AxesSubplot object at 0x7f22632fd390>]],\n",
       "      dtype=object)"
      ]
     },
     "execution_count": 10,
     "metadata": {},
     "output_type": "execute_result"
    },
    {
     "data": {
      "image/png": "[encoded data removed]",
      "text/plain": [
       "<Figure size 432x288 with 1 Axes>"
      ]
     },
     "metadata": {},
     "output_type": "display_data"
    }
   ],
   "source": [
    "df.hist(column=\"Donated_Blood\")"
   ]
  },
  {
   "cell_type": "markdown",
   "metadata": {},
   "source": [
    "En las siguientes gráficas mostramos la distribución de cada variable de entrada en función del valor de la variable de salida, tanto en forma de histograma como en forma de función de densidad. Puede observarse que la distribución de las variables es similar tanto cuando la salida es 0 como cuando es 1, excepto en la variable `Recency`, en la que hay más diferencias entre ambos tipos de variables. \n",
    "\n",
    "Además, se observa que la igualdad entre las variables `Frequency` y `Monetary_Value` también se tiene cuando se separa por clases, y que, como hemos comentado, hay muchos menos ejemplos con y=1 que con y=0."
   ]
  },
  {
   "cell_type": "code",
   "execution_count": 11,
   "metadata": {},
   "outputs": [
    {
     "data": {
      "text/plain": [
       "<matplotlib.legend.Legend at 0x7f2263da3290>"
      ]
     },
     "execution_count": 11,
     "metadata": {},
     "output_type": "execute_result"
    },
    {
     "data": {
      "image/png": "[encoded data removed]",
      "text/plain": [
       "<Figure size 1008x288 with 2 Axes>"
      ]
     },
     "metadata": {},
     "output_type": "display_data"
    }
   ],
   "source": [
    "fig, axs = plt.subplots(ncols=2, figsize=(14, 4))\n",
    "\n",
    "df.groupby(\"Donated_Blood\").Recency.hist(alpha=0.4, ax = axs[0])\n",
    "df.groupby(\"Donated_Blood\").Recency.plot(kind='kde', ax = axs[1])\n",
    "axs[0].set_title('Recency vs Donated_Blood')\n",
    "axs[1].set_title('Recency vs Donated_Blood')\n",
    "axs[1].legend()"
   ]
  },
  {
   "cell_type": "code",
   "execution_count": 12,
   "metadata": {},
   "outputs": [
    {
     "data": {
      "text/plain": [
       "<matplotlib.legend.Legend at 0x7f2263d70c90>"
      ]
     },
     "execution_count": 12,
     "metadata": {},
     "output_type": "execute_result"
    },
    {
     "data": {
      "image/png": "[encoded data removed]",
      "text/plain": [
       "<Figure size 1008x288 with 2 Axes>"
      ]
     },
     "metadata": {},
     "output_type": "display_data"
    }
   ],
   "source": [
    "fig, axs = plt.subplots(ncols=2, figsize=(14, 4))\n",
    "\n",
    "df.groupby(\"Donated_Blood\").Frequency.hist(alpha=0.4, ax = axs[0])\n",
    "df.groupby(\"Donated_Blood\").Frequency.plot(kind='kde', ax = axs[1])\n",
    "axs[0].set_title('Frequency vs Donated_Blood')\n",
    "axs[1].set_title('Frequency vs Donated_Blood')\n",
    "axs[1].legend()"
   ]
  },
  {
   "cell_type": "code",
   "execution_count": 13,
   "metadata": {},
   "outputs": [
    {
     "data": {
      "text/plain": [
       "<matplotlib.legend.Legend at 0x7f22630d7150>"
      ]
     },
     "execution_count": 13,
     "metadata": {},
     "output_type": "execute_result"
    },
    {
     "data": {
      "image/png": "[encoded data removed]",
      "text/plain": [
       "<Figure size 1008x288 with 2 Axes>"
      ]
     },
     "metadata": {},
     "output_type": "display_data"
    }
   ],
   "source": [
    "fig, axs = plt.subplots(ncols=2, figsize=(14, 4))\n",
    "\n",
    "df.groupby(\"Donated_Blood\").Monetary_Value.hist(alpha=0.4, ax = axs[0])\n",
    "df.groupby(\"Donated_Blood\").Monetary_Value.plot(kind='kde', ax = axs[1])\n",
    "axs[0].set_title('Monetary_Value vs Donated_Blood')\n",
    "axs[1].set_title('Monetary_Value vs Donated_Blood')\n",
    "axs[1].legend()"
   ]
  },
  {
   "cell_type": "code",
   "execution_count": 14,
   "metadata": {},
   "outputs": [
    {
     "data": {
      "text/plain": [
       "<matplotlib.legend.Legend at 0x7f2263033710>"
      ]
     },
     "execution_count": 14,
     "metadata": {},
     "output_type": "execute_result"
    },
    {
     "data": {
      "image/png": "[encoded data removed]",
      "text/plain": [
       "<Figure size 1008x288 with 2 Axes>"
      ]
     },
     "metadata": {},
     "output_type": "display_data"
    }
   ],
   "source": [
    "fig, axs = plt.subplots(ncols=2, figsize=(14, 4))\n",
    "\n",
    "df.groupby(\"Donated_Blood\").Time.hist(alpha=0.4, ax = axs[0])\n",
    "df.groupby(\"Donated_Blood\").Time.plot(kind='kde', ax = axs[1])\n",
    "axs[0].set_title('Time vs Donated_Blood')\n",
    "axs[1].set_title('Time vs Donated_Blood')\n",
    "axs[1].legend()"
   ]
  },
  {
   "cell_type": "markdown",
   "metadata": {},
   "source": [
    "Correlación entre las variables de entrada. Primero observamos la correlación obteniendo los coeficientes de correlación de Pearson usando la función `corr`, donde se confirma que `Frequency` y `Monetary_Value` tienen una correlación de 1, y después obtenemos las gráficas donde se muestran los puntos de dos de las variables, distinguiendo entre muestras con y=0 y muestras con y=1, como se vio en el notebook de KNN."
   ]
  },
  {
   "cell_type": "code",
   "execution_count": 15,
   "metadata": {},
   "outputs": [
    {
     "data": {
      "text/html": [
       "<div>\n",
       "<style scoped>\n",
       "    .dataframe tbody tr th:only-of-type {\n",
       "        vertical-align: middle;\n",
       "    }\n",
       "\n",
       "    .dataframe tbody tr th {\n",
       "        vertical-align: top;\n",
       "    }\n",
       "\n",
       "    .dataframe thead th {\n",
       "        text-align: right;\n",
       "    }\n",
       "</style>\n",
       "<table border=\"1\" class=\"dataframe\">\n",
       "  <thead>\n",
       "    <tr style=\"text-align: right;\">\n",
       "      <th></th>\n",
       "      <th>Recency</th>\n",
       "      <th>Frequency</th>\n",
       "      <th>Monetary_Value</th>\n",
       "      <th>Time</th>\n",
       "    </tr>\n",
       "  </thead>\n",
       "  <tbody>\n",
       "    <tr>\n",
       "      <th>Recency</th>\n",
       "      <td>1.000000</td>\n",
       "      <td>-0.182745</td>\n",
       "      <td>-0.182745</td>\n",
       "      <td>0.160618</td>\n",
       "    </tr>\n",
       "    <tr>\n",
       "      <th>Frequency</th>\n",
       "      <td>-0.182745</td>\n",
       "      <td>1.000000</td>\n",
       "      <td>1.000000</td>\n",
       "      <td>0.634940</td>\n",
       "    </tr>\n",
       "    <tr>\n",
       "      <th>Monetary_Value</th>\n",
       "      <td>-0.182745</td>\n",
       "      <td>1.000000</td>\n",
       "      <td>1.000000</td>\n",
       "      <td>0.634940</td>\n",
       "    </tr>\n",
       "    <tr>\n",
       "      <th>Time</th>\n",
       "      <td>0.160618</td>\n",
       "      <td>0.634940</td>\n",
       "      <td>0.634940</td>\n",
       "      <td>1.000000</td>\n",
       "    </tr>\n",
       "  </tbody>\n",
       "</table>\n",
       "</div>"
      ],
      "text/plain": [
       "                 Recency  Frequency  Monetary_Value      Time\n",
       "Recency         1.000000  -0.182745       -0.182745  0.160618\n",
       "Frequency      -0.182745   1.000000        1.000000  0.634940\n",
       "Monetary_Value -0.182745   1.000000        1.000000  0.634940\n",
       "Time            0.160618   0.634940        0.634940  1.000000"
      ]
     },
     "execution_count": 15,
     "metadata": {},
     "output_type": "execute_result"
    }
   ],
   "source": [
    "df.iloc[:,:-1].corr(method='pearson')"
   ]
  },
  {
   "cell_type": "code",
   "execution_count": 16,
   "metadata": {},
   "outputs": [
    {
     "data": {
      "image/png": "[encoded data removed]",
      "text/plain": [
       "<Figure size 432x288 with 1 Axes>"
      ]
     },
     "metadata": {},
     "output_type": "display_data"
    },
    {
     "name": "stdout",
     "output_type": "stream",
     "text": [
      "(-0.18274546808203893, 4.85164187316066e-07)\n"
     ]
    },
    {
     "data": {
      "image/png": "[encoded data removed]",
      "text/plain": [
       "<Figure size 432x288 with 1 Axes>"
      ]
     },
     "metadata": {},
     "output_type": "display_data"
    },
    {
     "name": "stdout",
     "output_type": "stream",
     "text": [
      "(-0.182745468082039, 4.85164187316066e-07)\n"
     ]
    },
    {
     "data": {
      "image/png": "[encoded data removed]",
      "text/plain": [
       "<Figure size 432x288 with 1 Axes>"
      ]
     },
     "metadata": {},
     "output_type": "display_data"
    },
    {
     "name": "stdout",
     "output_type": "stream",
     "text": [
      "(0.16061809417518483, 1.0139260049235406e-05)\n"
     ]
    },
    {
     "data": {
      "image/png": "[encoded data removed]",
      "text/plain": [
       "<Figure size 432x288 with 1 Axes>"
      ]
     },
     "metadata": {},
     "output_type": "display_data"
    },
    {
     "name": "stdout",
     "output_type": "stream",
     "text": [
      "(1.0, 0.0)\n"
     ]
    },
    {
     "data": {
      "image/png": "[encoded data removed]",
      "text/plain": [
       "<Figure size 432x288 with 1 Axes>"
      ]
     },
     "metadata": {},
     "output_type": "display_data"
    },
    {
     "name": "stdout",
     "output_type": "stream",
     "text": [
      "(0.6349402703229283, 1.1475915359242141e-85)\n"
     ]
    },
    {
     "data": {
      "image/png": "[encoded data removed]",
      "text/plain": [
       "<Figure size 432x288 with 1 Axes>"
      ]
     },
     "metadata": {},
     "output_type": "display_data"
    },
    {
     "name": "stdout",
     "output_type": "stream",
     "text": [
      "(0.6349402703229283, 1.1475915359242141e-85)\n"
     ]
    }
   ],
   "source": [
    "xx = df.values[:,0:df.shape[1]-1]\n",
    "y = df.values[:, df.shape[1]-1]\n",
    "xC0=np.empty([0,xx.shape[1]])\n",
    "xC1=np.empty([0,xx.shape[1]])\n",
    "for i in range(xx.shape[0]):\n",
    "    if y[i] == 0:\n",
    "        xC0=np.vstack((xC0, xx[i,:]))\n",
    "    elif y[i] == 1:\n",
    "        xC1=np.vstack((xC1, xx[i,:]))      \n",
    "\n",
    "\n",
    "for i in range(xx.shape[1]):\n",
    "    for j in range(i+1, xx.shape[1]):\n",
    "        plt.plot(xC0[:,i], xC0[:,j],'ro', xC1[:,i], xC1[:,j],'bo')\n",
    "        plt.xlabel('x'+str(i))\n",
    "        plt.ylabel('x'+str(j))\n",
    "        plt.show()\n",
    "        #correlation\n",
    "        print stats.pearsonr(xx[:,i], xx[:,j])"
   ]
  },
  {
   "cell_type": "markdown",
   "metadata": {},
   "source": [
    "Fijamos la semilla para que el resultado sea repetible en otras máquinas, y convertimos el dataframe en una matriz de python sobre la que haremos todo el proceso de aprendizaje y test. Para ello, dividimos esta matriz en dos grupos, las variables de entrada y las de salida, y cada una de ellas las particionamos en train y test. Además, estandarizamos las variables de entrada."
   ]
  },
  {
   "cell_type": "code",
   "execution_count": 17,
   "metadata": {},
   "outputs": [
    {
     "name": "stderr",
     "output_type": "stream",
     "text": [
      "/usr/local/lib/python2.7/dist-packages/sklearn/utils/validation.py:429: DataConversionWarning: Data with input dtype int64 was converted to float64 by StandardScaler.\n",
      "  warnings.warn(msg, _DataConversionWarning)\n"
     ]
    }
   ],
   "source": [
    "np.random.seed(1)\n",
    "# convertimos el data frame a un dataset para pasar al aprendizaje\n",
    "dataset = df.values\n",
    "xRaw = dataset[:,0:dataset.shape[1]-1]\n",
    "y = dataset[:,dataset.shape[1]-1]\n",
    "y=y.astype('int')\n",
    "\n",
    "#Divide in training and test, shuffling the examples and keeping the proportion of examples of each class\n",
    "xTrain_tmp, xTest_tmp, yTrain, yTest = cross_validation.train_test_split(xRaw, y, test_size=0.2)\n",
    "\n",
    "#Standardize data\n",
    "scaler = preprocessing.StandardScaler().fit(xTrain_tmp)\n",
    "xTrain=scaler.transform(xTrain_tmp)\n",
    "xTest=scaler.transform(xTest_tmp)"
   ]
  },
  {
   "cell_type": "markdown",
   "metadata": {},
   "source": [
    "El número de vecinos elegidos ha sido de 1 a 90. A continuación se muestra el mejor hiperparámetro, junto con su *accuracy* y su desviación típica."
   ]
  },
  {
   "cell_type": "code",
   "execution_count": 18,
   "metadata": {
    "scrolled": true
   },
   "outputs": [
    {
     "name": "stdout",
     "output_type": "stream",
     "text": [
      "Best hyperparameter {'n_neighbors': 19}\n",
      "\n",
      "\n",
      "\n",
      "0.711 (+/-0.026) for {'n_neighbors': 1}\n",
      "0.766 (+/-0.024) for {'n_neighbors': 2}\n",
      "0.754 (+/-0.045) for {'n_neighbors': 3}\n",
      "0.766 (+/-0.034) for {'n_neighbors': 4}\n",
      "0.771 (+/-0.032) for {'n_neighbors': 5}\n",
      "0.783 (+/-0.023) for {'n_neighbors': 6}\n",
      "0.773 (+/-0.028) for {'n_neighbors': 7}\n",
      "0.774 (+/-0.009) for {'n_neighbors': 8}\n",
      "0.784 (+/-0.035) for {'n_neighbors': 9}\n",
      "0.776 (+/-0.022) for {'n_neighbors': 10}\n",
      "0.788 (+/-0.022) for {'n_neighbors': 11}\n",
      "0.786 (+/-0.024) for {'n_neighbors': 12}\n",
      "0.791 (+/-0.026) for {'n_neighbors': 13}\n",
      "0.784 (+/-0.027) for {'n_neighbors': 14}\n",
      "0.788 (+/-0.033) for {'n_neighbors': 15}\n",
      "0.786 (+/-0.026) for {'n_neighbors': 16}\n",
      "0.791 (+/-0.033) for {'n_neighbors': 17}\n",
      "0.793 (+/-0.028) for {'n_neighbors': 18}\n",
      "0.796 (+/-0.028) for {'n_neighbors': 19}\n",
      "0.789 (+/-0.026) for {'n_neighbors': 20}\n",
      "0.794 (+/-0.028) for {'n_neighbors': 21}\n",
      "0.791 (+/-0.027) for {'n_neighbors': 22}\n",
      "0.793 (+/-0.028) for {'n_neighbors': 23}\n",
      "0.788 (+/-0.026) for {'n_neighbors': 24}\n",
      "0.791 (+/-0.028) for {'n_neighbors': 25}\n",
      "0.788 (+/-0.030) for {'n_neighbors': 26}\n",
      "0.786 (+/-0.029) for {'n_neighbors': 27}\n",
      "0.786 (+/-0.026) for {'n_neighbors': 28}\n",
      "0.784 (+/-0.024) for {'n_neighbors': 29}\n",
      "0.779 (+/-0.020) for {'n_neighbors': 30}\n",
      "0.783 (+/-0.020) for {'n_neighbors': 31}\n",
      "0.779 (+/-0.023) for {'n_neighbors': 32}\n",
      "0.788 (+/-0.023) for {'n_neighbors': 33}\n",
      "0.781 (+/-0.021) for {'n_neighbors': 34}\n",
      "0.784 (+/-0.023) for {'n_neighbors': 35}\n",
      "0.786 (+/-0.025) for {'n_neighbors': 36}\n",
      "0.786 (+/-0.019) for {'n_neighbors': 37}\n",
      "0.776 (+/-0.020) for {'n_neighbors': 38}\n",
      "0.781 (+/-0.025) for {'n_neighbors': 39}\n",
      "0.771 (+/-0.020) for {'n_neighbors': 40}\n",
      "0.776 (+/-0.022) for {'n_neighbors': 41}\n",
      "0.768 (+/-0.017) for {'n_neighbors': 42}\n",
      "0.774 (+/-0.020) for {'n_neighbors': 43}\n",
      "0.773 (+/-0.016) for {'n_neighbors': 44}\n",
      "0.776 (+/-0.024) for {'n_neighbors': 45}\n",
      "0.773 (+/-0.009) for {'n_neighbors': 46}\n",
      "0.778 (+/-0.021) for {'n_neighbors': 47}\n",
      "0.774 (+/-0.015) for {'n_neighbors': 48}\n",
      "0.779 (+/-0.015) for {'n_neighbors': 49}\n",
      "0.773 (+/-0.016) for {'n_neighbors': 50}\n",
      "0.774 (+/-0.020) for {'n_neighbors': 51}\n",
      "0.771 (+/-0.013) for {'n_neighbors': 52}\n",
      "0.769 (+/-0.010) for {'n_neighbors': 53}\n",
      "0.769 (+/-0.014) for {'n_neighbors': 54}\n",
      "0.773 (+/-0.013) for {'n_neighbors': 55}\n",
      "0.766 (+/-0.014) for {'n_neighbors': 56}\n",
      "0.768 (+/-0.016) for {'n_neighbors': 57}\n",
      "0.764 (+/-0.013) for {'n_neighbors': 58}\n",
      "0.766 (+/-0.014) for {'n_neighbors': 59}\n",
      "0.763 (+/-0.011) for {'n_neighbors': 60}\n",
      "0.764 (+/-0.013) for {'n_neighbors': 61}\n",
      "0.766 (+/-0.009) for {'n_neighbors': 62}\n",
      "0.766 (+/-0.011) for {'n_neighbors': 63}\n",
      "0.768 (+/-0.011) for {'n_neighbors': 64}\n",
      "0.768 (+/-0.011) for {'n_neighbors': 65}\n",
      "0.766 (+/-0.011) for {'n_neighbors': 66}\n",
      "0.768 (+/-0.011) for {'n_neighbors': 67}\n",
      "0.769 (+/-0.008) for {'n_neighbors': 68}\n",
      "0.769 (+/-0.008) for {'n_neighbors': 69}\n",
      "0.768 (+/-0.009) for {'n_neighbors': 70}\n",
      "0.768 (+/-0.009) for {'n_neighbors': 71}\n",
      "0.766 (+/-0.009) for {'n_neighbors': 72}\n",
      "0.766 (+/-0.009) for {'n_neighbors': 73}\n",
      "0.766 (+/-0.009) for {'n_neighbors': 74}\n",
      "0.766 (+/-0.009) for {'n_neighbors': 75}\n",
      "0.766 (+/-0.006) for {'n_neighbors': 76}\n",
      "0.766 (+/-0.006) for {'n_neighbors': 77}\n",
      "0.769 (+/-0.003) for {'n_neighbors': 78}\n",
      "0.769 (+/-0.003) for {'n_neighbors': 79}\n",
      "0.771 (+/-0.003) for {'n_neighbors': 80}\n",
      "0.771 (+/-0.003) for {'n_neighbors': 81}\n",
      "0.771 (+/-0.003) for {'n_neighbors': 82}\n",
      "0.771 (+/-0.003) for {'n_neighbors': 83}\n",
      "0.771 (+/-0.003) for {'n_neighbors': 84}\n",
      "0.771 (+/-0.003) for {'n_neighbors': 85}\n",
      "0.771 (+/-0.003) for {'n_neighbors': 86}\n",
      "0.771 (+/-0.003) for {'n_neighbors': 87}\n",
      "0.771 (+/-0.003) for {'n_neighbors': 88}\n",
      "0.771 (+/-0.003) for {'n_neighbors': 89}\n",
      "0.771 (+/-0.003) for {'n_neighbors': 90}\n"
     ]
    }
   ],
   "source": [
    "#Generate grid search\n",
    "totalNeighbors = 90\n",
    "hyperParams = {'n_neighbors': range(1,totalNeighbors+1)}\n",
    "\n",
    "#Create an instance of Neighbors Classifier and fit the data for the grid parameters\n",
    "modelCV = GridSearchCV(neighbors.KNeighborsClassifier(), \n",
    "                     hyperParams, cv=5, scoring='accuracy')\n",
    "modelCV.fit(xTrain, yTrain)\n",
    "print \"Best hyperparameter\", modelCV.best_params_\n",
    "print \"\\n\\n\"\n",
    "\n",
    "neighList, errList, devList = [], [], []\n",
    "for hyperP, mean_score, scores in modelCV.grid_scores_:\n",
    "    print(\"%0.3f (+/-%0.03f) for %r\"\n",
    "              % (mean_score, scores.std(), hyperP))\n",
    "    neighList.append(hyperP['n_neighbors'])\n",
    "    errList.append(1-mean_score)\n",
    "    devList.append(scores.std())\n",
    "\n",
    "    "
   ]
  },
  {
   "cell_type": "markdown",
   "metadata": {},
   "source": [
    "Gráfica con el error de validación cruzada frente al valor del hiperparámetro:"
   ]
  },
  {
   "cell_type": "code",
   "execution_count": 19,
   "metadata": {},
   "outputs": [
    {
     "data": {
      "image/png": "[encoded data removed]",
      "text/plain": [
       "<Figure size 432x288 with 1 Axes>"
      ]
     },
     "metadata": {},
     "output_type": "display_data"
    }
   ],
   "source": [
    "plt.errorbar(neighList, errList, yerr=devList)\n",
    "plt.xlim(neighList[0]-1, neighList[len(neighList)-1]+1)\n",
    "plt.show()"
   ]
  },
  {
   "cell_type": "markdown",
   "metadata": {},
   "source": [
    "A continuación mostramos el menor error de entrenamiento, la desviación estándar y el número de vecinos con el que se corresponde."
   ]
  },
  {
   "cell_type": "code",
   "execution_count": 20,
   "metadata": {},
   "outputs": [
    {
     "name": "stdout",
     "output_type": "stream",
     "text": [
      "Mejor parámetros: 19  vecinos\n",
      "Error de entrenamiento:  0.204013377926\n",
      "Std:  0.028437425108343087\n"
     ]
    }
   ],
   "source": [
    "##Menor error CV\n",
    "best_param_cv = modelCV.best_params_['n_neighbors']\n",
    "print \"Mejor parámetros:\" , best_param_cv, \" vecinos\"\n",
    "print \"Error de entrenamiento: \", errList[best_param_cv-1] \n",
    "print \"Std: \", devList[best_param_cv-1]"
   ]
  },
  {
   "cell_type": "markdown",
   "metadata": {},
   "source": [
    "Aplicamos ahora la regla de una desviación estándar. Para ello, construimos una lista con todos los hiperparámetros que cumplen que su error es menor que el error del mejor modelo más la desviación estándar de ese modelo. Una vez tenemos esta lista, únicamente hemos de obtener el máximo de la misma, ya que el modelo más simple de entre todos los que cumplen la anterior propiedad será el que más vecinos tenga, ya que la varianza será menor."
   ]
  },
  {
   "cell_type": "code",
   "execution_count": 21,
   "metadata": {
    "scrolled": true
   },
   "outputs": [
    {
     "name": "stdout",
     "output_type": "stream",
     "text": [
      "Valor del hiperparámetro si se aplicase la regla de una desviación estándar:  90\n"
     ]
    }
   ],
   "source": [
    "dev_best_model = devList[best_param_cv-1]\n",
    "params_one_dev = [neighList[i] for i in range(0,totalNeighbors) if errList[i] < errList[best_param_cv-1] + dev_best_model]\n",
    "best_param_one_dev = max(params_one_dev)\n",
    "print \"Valor del hiperparámetro si se aplicase la regla de una desviación estándar: \", best_param_one_dev"
   ]
  },
  {
   "cell_type": "markdown",
   "metadata": {},
   "source": [
    "Obtenemos a continuación la predicción en test para cada valor del hiperparámetro, y guardamos su error."
   ]
  },
  {
   "cell_type": "code",
   "execution_count": 22,
   "metadata": {},
   "outputs": [],
   "source": [
    "#Test error\n",
    "testErrList=[]\n",
    "for nNeighbors in range(1, totalNeighbors+1):\n",
    "    model = neighbors.KNeighborsClassifier(n_neighbors = nNeighbors)\n",
    "    model.fit(xTrain, yTrain)\n",
    "    yPred=model.predict(xTest)\n",
    "    testErrList.append(1-metrics.accuracy_score(yTest,yPred))"
   ]
  },
  {
   "cell_type": "markdown",
   "metadata": {},
   "source": [
    "A continuación mostramos el error de test, y el error de test comparado con el de entrenamiento."
   ]
  },
  {
   "cell_type": "code",
   "execution_count": 23,
   "metadata": {},
   "outputs": [
    {
     "data": {
      "text/plain": [
       "<ErrorbarContainer object of 3 artists>"
      ]
     },
     "execution_count": 23,
     "metadata": {},
     "output_type": "execute_result"
    },
    {
     "data": {
      "image/png": "[encoded data removed]",
      "text/plain": [
       "<Figure size 1008x288 with 2 Axes>"
      ]
     },
     "metadata": {},
     "output_type": "display_data"
    }
   ],
   "source": [
    "fig, axs = plt.subplots(ncols=2, figsize=(14, 4))\n",
    "\n",
    "axs[0].errorbar(neighList, testErrList)\n",
    "plt.xlim(neighList[0]-1, neighList[len(neighList)-1]+1)\n",
    "\n",
    "axs[1].errorbar(neighList, errList, yerr=devList)\n",
    "plt.xlim(neighList[0]-1, neighList[len(neighList)-1]+1)\n",
    "axs[1].errorbar(neighList, testErrList) \n"
   ]
  },
  {
   "cell_type": "markdown",
   "metadata": {},
   "source": [
    "Menor error de test y errores de test para el mejor hiperparámetro de la cross validación y de la regla de una desviación estándar:"
   ]
  },
  {
   "cell_type": "code",
   "execution_count": 24,
   "metadata": {},
   "outputs": [
    {
     "name": "stdout",
     "output_type": "stream",
     "text": [
      "Menor error de test:  0.19333333333333336  conseguido para el parámetro n_neighbors = 20\n",
      "Error de test para el parámetro n_neighbors = 19  elegido por la CV: 0.21333333333333337\n",
      "Error de test para el parámetro n_neighbors = 90  elegido por el método one standard error rule:  0.26\n"
     ]
    }
   ],
   "source": [
    "best_param_test = np.argmin(testErrList)+1\n",
    "print \"Menor error de test: \", min(testErrList), \" conseguido para el parámetro n_neighbors =\", best_param_test\n",
    "print \"Error de test para el parámetro n_neighbors =\", best_param_cv ,\" elegido por la CV:\", testErrList[best_param_cv-1]\n",
    "print \"Error de test para el parámetro n_neighbors =\", best_param_one_dev, \" elegido por el método one standard error rule: \", testErrList[best_param_one_dev-1]\n"
   ]
  },
  {
   "cell_type": "markdown",
   "metadata": {},
   "source": [
    "# Ejercicio 3"
   ]
  },
  {
   "cell_type": "code",
   "execution_count": 25,
   "metadata": {},
   "outputs": [],
   "source": [
    "df_energy = pd.read_csv('../datos/EnergyEfficiency.data', \n",
    "                 sep=\",\", \n",
    "                 skiprows=1, \n",
    "                 names=['Relative_Compactness','Surface_Area', 'Wall_Area', 'Roof_Area', 'Overall_Height', \n",
    "                        'Orientation', 'Glazing_Area', 'Glazing_Area_Distribution', 'Cooling_Load'])"
   ]
  },
  {
   "cell_type": "code",
   "execution_count": 26,
   "metadata": {},
   "outputs": [
    {
     "data": {
      "text/html": [
       "<div>\n",
       "<style scoped>\n",
       "    .dataframe tbody tr th:only-of-type {\n",
       "        vertical-align: middle;\n",
       "    }\n",
       "\n",
       "    .dataframe tbody tr th {\n",
       "        vertical-align: top;\n",
       "    }\n",
       "\n",
       "    .dataframe thead th {\n",
       "        text-align: right;\n",
       "    }\n",
       "</style>\n",
       "<table border=\"1\" class=\"dataframe\">\n",
       "  <thead>\n",
       "    <tr style=\"text-align: right;\">\n",
       "      <th></th>\n",
       "      <th>Relative_Compactness</th>\n",
       "      <th>Surface_Area</th>\n",
       "      <th>Wall_Area</th>\n",
       "      <th>Roof_Area</th>\n",
       "      <th>Overall_Height</th>\n",
       "      <th>Orientation</th>\n",
       "      <th>Glazing_Area</th>\n",
       "      <th>Glazing_Area_Distribution</th>\n",
       "      <th>Cooling_Load</th>\n",
       "    </tr>\n",
       "  </thead>\n",
       "  <tbody>\n",
       "    <tr>\n",
       "      <th>0</th>\n",
       "      <td>0.98</td>\n",
       "      <td>514.5</td>\n",
       "      <td>294.0</td>\n",
       "      <td>110.25</td>\n",
       "      <td>7.0</td>\n",
       "      <td>2</td>\n",
       "      <td>0.0</td>\n",
       "      <td>0</td>\n",
       "      <td>21.33</td>\n",
       "    </tr>\n",
       "    <tr>\n",
       "      <th>1</th>\n",
       "      <td>0.98</td>\n",
       "      <td>514.5</td>\n",
       "      <td>294.0</td>\n",
       "      <td>110.25</td>\n",
       "      <td>7.0</td>\n",
       "      <td>3</td>\n",
       "      <td>0.0</td>\n",
       "      <td>0</td>\n",
       "      <td>21.33</td>\n",
       "    </tr>\n",
       "    <tr>\n",
       "      <th>2</th>\n",
       "      <td>0.98</td>\n",
       "      <td>514.5</td>\n",
       "      <td>294.0</td>\n",
       "      <td>110.25</td>\n",
       "      <td>7.0</td>\n",
       "      <td>4</td>\n",
       "      <td>0.0</td>\n",
       "      <td>0</td>\n",
       "      <td>21.33</td>\n",
       "    </tr>\n",
       "    <tr>\n",
       "      <th>3</th>\n",
       "      <td>0.98</td>\n",
       "      <td>514.5</td>\n",
       "      <td>294.0</td>\n",
       "      <td>110.25</td>\n",
       "      <td>7.0</td>\n",
       "      <td>5</td>\n",
       "      <td>0.0</td>\n",
       "      <td>0</td>\n",
       "      <td>21.33</td>\n",
       "    </tr>\n",
       "    <tr>\n",
       "      <th>4</th>\n",
       "      <td>0.90</td>\n",
       "      <td>563.5</td>\n",
       "      <td>318.5</td>\n",
       "      <td>122.50</td>\n",
       "      <td>7.0</td>\n",
       "      <td>2</td>\n",
       "      <td>0.0</td>\n",
       "      <td>0</td>\n",
       "      <td>28.28</td>\n",
       "    </tr>\n",
       "    <tr>\n",
       "      <th>5</th>\n",
       "      <td>0.90</td>\n",
       "      <td>563.5</td>\n",
       "      <td>318.5</td>\n",
       "      <td>122.50</td>\n",
       "      <td>7.0</td>\n",
       "      <td>3</td>\n",
       "      <td>0.0</td>\n",
       "      <td>0</td>\n",
       "      <td>25.38</td>\n",
       "    </tr>\n",
       "    <tr>\n",
       "      <th>6</th>\n",
       "      <td>0.90</td>\n",
       "      <td>563.5</td>\n",
       "      <td>318.5</td>\n",
       "      <td>122.50</td>\n",
       "      <td>7.0</td>\n",
       "      <td>4</td>\n",
       "      <td>0.0</td>\n",
       "      <td>0</td>\n",
       "      <td>25.16</td>\n",
       "    </tr>\n",
       "    <tr>\n",
       "      <th>7</th>\n",
       "      <td>0.90</td>\n",
       "      <td>563.5</td>\n",
       "      <td>318.5</td>\n",
       "      <td>122.50</td>\n",
       "      <td>7.0</td>\n",
       "      <td>5</td>\n",
       "      <td>0.0</td>\n",
       "      <td>0</td>\n",
       "      <td>29.60</td>\n",
       "    </tr>\n",
       "    <tr>\n",
       "      <th>8</th>\n",
       "      <td>0.86</td>\n",
       "      <td>588.0</td>\n",
       "      <td>294.0</td>\n",
       "      <td>147.00</td>\n",
       "      <td>7.0</td>\n",
       "      <td>2</td>\n",
       "      <td>0.0</td>\n",
       "      <td>0</td>\n",
       "      <td>27.30</td>\n",
       "    </tr>\n",
       "    <tr>\n",
       "      <th>9</th>\n",
       "      <td>0.86</td>\n",
       "      <td>588.0</td>\n",
       "      <td>294.0</td>\n",
       "      <td>147.00</td>\n",
       "      <td>7.0</td>\n",
       "      <td>3</td>\n",
       "      <td>0.0</td>\n",
       "      <td>0</td>\n",
       "      <td>21.97</td>\n",
       "    </tr>\n",
       "    <tr>\n",
       "      <th>10</th>\n",
       "      <td>0.86</td>\n",
       "      <td>588.0</td>\n",
       "      <td>294.0</td>\n",
       "      <td>147.00</td>\n",
       "      <td>7.0</td>\n",
       "      <td>4</td>\n",
       "      <td>0.0</td>\n",
       "      <td>0</td>\n",
       "      <td>23.49</td>\n",
       "    </tr>\n",
       "    <tr>\n",
       "      <th>11</th>\n",
       "      <td>0.86</td>\n",
       "      <td>588.0</td>\n",
       "      <td>294.0</td>\n",
       "      <td>147.00</td>\n",
       "      <td>7.0</td>\n",
       "      <td>5</td>\n",
       "      <td>0.0</td>\n",
       "      <td>0</td>\n",
       "      <td>27.87</td>\n",
       "    </tr>\n",
       "    <tr>\n",
       "      <th>12</th>\n",
       "      <td>0.82</td>\n",
       "      <td>612.5</td>\n",
       "      <td>318.5</td>\n",
       "      <td>147.00</td>\n",
       "      <td>7.0</td>\n",
       "      <td>2</td>\n",
       "      <td>0.0</td>\n",
       "      <td>0</td>\n",
       "      <td>23.77</td>\n",
       "    </tr>\n",
       "    <tr>\n",
       "      <th>13</th>\n",
       "      <td>0.82</td>\n",
       "      <td>612.5</td>\n",
       "      <td>318.5</td>\n",
       "      <td>147.00</td>\n",
       "      <td>7.0</td>\n",
       "      <td>3</td>\n",
       "      <td>0.0</td>\n",
       "      <td>0</td>\n",
       "      <td>21.46</td>\n",
       "    </tr>\n",
       "    <tr>\n",
       "      <th>14</th>\n",
       "      <td>0.82</td>\n",
       "      <td>612.5</td>\n",
       "      <td>318.5</td>\n",
       "      <td>147.00</td>\n",
       "      <td>7.0</td>\n",
       "      <td>4</td>\n",
       "      <td>0.0</td>\n",
       "      <td>0</td>\n",
       "      <td>21.16</td>\n",
       "    </tr>\n",
       "    <tr>\n",
       "      <th>15</th>\n",
       "      <td>0.82</td>\n",
       "      <td>612.5</td>\n",
       "      <td>318.5</td>\n",
       "      <td>147.00</td>\n",
       "      <td>7.0</td>\n",
       "      <td>5</td>\n",
       "      <td>0.0</td>\n",
       "      <td>0</td>\n",
       "      <td>24.93</td>\n",
       "    </tr>\n",
       "    <tr>\n",
       "      <th>16</th>\n",
       "      <td>0.79</td>\n",
       "      <td>637.0</td>\n",
       "      <td>343.0</td>\n",
       "      <td>147.00</td>\n",
       "      <td>7.0</td>\n",
       "      <td>2</td>\n",
       "      <td>0.0</td>\n",
       "      <td>0</td>\n",
       "      <td>37.73</td>\n",
       "    </tr>\n",
       "    <tr>\n",
       "      <th>17</th>\n",
       "      <td>0.79</td>\n",
       "      <td>637.0</td>\n",
       "      <td>343.0</td>\n",
       "      <td>147.00</td>\n",
       "      <td>7.0</td>\n",
       "      <td>3</td>\n",
       "      <td>0.0</td>\n",
       "      <td>0</td>\n",
       "      <td>31.27</td>\n",
       "    </tr>\n",
       "    <tr>\n",
       "      <th>18</th>\n",
       "      <td>0.79</td>\n",
       "      <td>637.0</td>\n",
       "      <td>343.0</td>\n",
       "      <td>147.00</td>\n",
       "      <td>7.0</td>\n",
       "      <td>4</td>\n",
       "      <td>0.0</td>\n",
       "      <td>0</td>\n",
       "      <td>30.93</td>\n",
       "    </tr>\n",
       "    <tr>\n",
       "      <th>19</th>\n",
       "      <td>0.79</td>\n",
       "      <td>637.0</td>\n",
       "      <td>343.0</td>\n",
       "      <td>147.00</td>\n",
       "      <td>7.0</td>\n",
       "      <td>5</td>\n",
       "      <td>0.0</td>\n",
       "      <td>0</td>\n",
       "      <td>39.44</td>\n",
       "    </tr>\n",
       "    <tr>\n",
       "      <th>20</th>\n",
       "      <td>0.76</td>\n",
       "      <td>661.5</td>\n",
       "      <td>416.5</td>\n",
       "      <td>122.50</td>\n",
       "      <td>7.0</td>\n",
       "      <td>2</td>\n",
       "      <td>0.0</td>\n",
       "      <td>0</td>\n",
       "      <td>29.79</td>\n",
       "    </tr>\n",
       "    <tr>\n",
       "      <th>21</th>\n",
       "      <td>0.76</td>\n",
       "      <td>661.5</td>\n",
       "      <td>416.5</td>\n",
       "      <td>122.50</td>\n",
       "      <td>7.0</td>\n",
       "      <td>3</td>\n",
       "      <td>0.0</td>\n",
       "      <td>0</td>\n",
       "      <td>29.68</td>\n",
       "    </tr>\n",
       "    <tr>\n",
       "      <th>22</th>\n",
       "      <td>0.76</td>\n",
       "      <td>661.5</td>\n",
       "      <td>416.5</td>\n",
       "      <td>122.50</td>\n",
       "      <td>7.0</td>\n",
       "      <td>4</td>\n",
       "      <td>0.0</td>\n",
       "      <td>0</td>\n",
       "      <td>29.79</td>\n",
       "    </tr>\n",
       "    <tr>\n",
       "      <th>23</th>\n",
       "      <td>0.76</td>\n",
       "      <td>661.5</td>\n",
       "      <td>416.5</td>\n",
       "      <td>122.50</td>\n",
       "      <td>7.0</td>\n",
       "      <td>5</td>\n",
       "      <td>0.0</td>\n",
       "      <td>0</td>\n",
       "      <td>29.40</td>\n",
       "    </tr>\n",
       "    <tr>\n",
       "      <th>24</th>\n",
       "      <td>0.74</td>\n",
       "      <td>686.0</td>\n",
       "      <td>245.0</td>\n",
       "      <td>220.50</td>\n",
       "      <td>3.5</td>\n",
       "      <td>2</td>\n",
       "      <td>0.0</td>\n",
       "      <td>0</td>\n",
       "      <td>10.90</td>\n",
       "    </tr>\n",
       "    <tr>\n",
       "      <th>25</th>\n",
       "      <td>0.74</td>\n",
       "      <td>686.0</td>\n",
       "      <td>245.0</td>\n",
       "      <td>220.50</td>\n",
       "      <td>3.5</td>\n",
       "      <td>3</td>\n",
       "      <td>0.0</td>\n",
       "      <td>0</td>\n",
       "      <td>11.19</td>\n",
       "    </tr>\n",
       "    <tr>\n",
       "      <th>26</th>\n",
       "      <td>0.74</td>\n",
       "      <td>686.0</td>\n",
       "      <td>245.0</td>\n",
       "      <td>220.50</td>\n",
       "      <td>3.5</td>\n",
       "      <td>4</td>\n",
       "      <td>0.0</td>\n",
       "      <td>0</td>\n",
       "      <td>10.94</td>\n",
       "    </tr>\n",
       "    <tr>\n",
       "      <th>27</th>\n",
       "      <td>0.74</td>\n",
       "      <td>686.0</td>\n",
       "      <td>245.0</td>\n",
       "      <td>220.50</td>\n",
       "      <td>3.5</td>\n",
       "      <td>5</td>\n",
       "      <td>0.0</td>\n",
       "      <td>0</td>\n",
       "      <td>11.17</td>\n",
       "    </tr>\n",
       "    <tr>\n",
       "      <th>28</th>\n",
       "      <td>0.71</td>\n",
       "      <td>710.5</td>\n",
       "      <td>269.5</td>\n",
       "      <td>220.50</td>\n",
       "      <td>3.5</td>\n",
       "      <td>2</td>\n",
       "      <td>0.0</td>\n",
       "      <td>0</td>\n",
       "      <td>11.27</td>\n",
       "    </tr>\n",
       "    <tr>\n",
       "      <th>29</th>\n",
       "      <td>0.71</td>\n",
       "      <td>710.5</td>\n",
       "      <td>269.5</td>\n",
       "      <td>220.50</td>\n",
       "      <td>3.5</td>\n",
       "      <td>3</td>\n",
       "      <td>0.0</td>\n",
       "      <td>0</td>\n",
       "      <td>11.72</td>\n",
       "    </tr>\n",
       "    <tr>\n",
       "      <th>...</th>\n",
       "      <td>...</td>\n",
       "      <td>...</td>\n",
       "      <td>...</td>\n",
       "      <td>...</td>\n",
       "      <td>...</td>\n",
       "      <td>...</td>\n",
       "      <td>...</td>\n",
       "      <td>...</td>\n",
       "      <td>...</td>\n",
       "    </tr>\n",
       "    <tr>\n",
       "      <th>738</th>\n",
       "      <td>0.79</td>\n",
       "      <td>637.0</td>\n",
       "      <td>343.0</td>\n",
       "      <td>147.00</td>\n",
       "      <td>7.0</td>\n",
       "      <td>4</td>\n",
       "      <td>0.4</td>\n",
       "      <td>5</td>\n",
       "      <td>47.01</td>\n",
       "    </tr>\n",
       "    <tr>\n",
       "      <th>739</th>\n",
       "      <td>0.79</td>\n",
       "      <td>637.0</td>\n",
       "      <td>343.0</td>\n",
       "      <td>147.00</td>\n",
       "      <td>7.0</td>\n",
       "      <td>5</td>\n",
       "      <td>0.4</td>\n",
       "      <td>5</td>\n",
       "      <td>44.87</td>\n",
       "    </tr>\n",
       "    <tr>\n",
       "      <th>740</th>\n",
       "      <td>0.76</td>\n",
       "      <td>661.5</td>\n",
       "      <td>416.5</td>\n",
       "      <td>122.50</td>\n",
       "      <td>7.0</td>\n",
       "      <td>2</td>\n",
       "      <td>0.4</td>\n",
       "      <td>5</td>\n",
       "      <td>39.37</td>\n",
       "    </tr>\n",
       "    <tr>\n",
       "      <th>741</th>\n",
       "      <td>0.76</td>\n",
       "      <td>661.5</td>\n",
       "      <td>416.5</td>\n",
       "      <td>122.50</td>\n",
       "      <td>7.0</td>\n",
       "      <td>3</td>\n",
       "      <td>0.4</td>\n",
       "      <td>5</td>\n",
       "      <td>39.80</td>\n",
       "    </tr>\n",
       "    <tr>\n",
       "      <th>742</th>\n",
       "      <td>0.76</td>\n",
       "      <td>661.5</td>\n",
       "      <td>416.5</td>\n",
       "      <td>122.50</td>\n",
       "      <td>7.0</td>\n",
       "      <td>4</td>\n",
       "      <td>0.4</td>\n",
       "      <td>5</td>\n",
       "      <td>37.79</td>\n",
       "    </tr>\n",
       "    <tr>\n",
       "      <th>743</th>\n",
       "      <td>0.76</td>\n",
       "      <td>661.5</td>\n",
       "      <td>416.5</td>\n",
       "      <td>122.50</td>\n",
       "      <td>7.0</td>\n",
       "      <td>5</td>\n",
       "      <td>0.4</td>\n",
       "      <td>5</td>\n",
       "      <td>38.18</td>\n",
       "    </tr>\n",
       "    <tr>\n",
       "      <th>744</th>\n",
       "      <td>0.74</td>\n",
       "      <td>686.0</td>\n",
       "      <td>245.0</td>\n",
       "      <td>220.50</td>\n",
       "      <td>3.5</td>\n",
       "      <td>2</td>\n",
       "      <td>0.4</td>\n",
       "      <td>5</td>\n",
       "      <td>16.69</td>\n",
       "    </tr>\n",
       "    <tr>\n",
       "      <th>745</th>\n",
       "      <td>0.74</td>\n",
       "      <td>686.0</td>\n",
       "      <td>245.0</td>\n",
       "      <td>220.50</td>\n",
       "      <td>3.5</td>\n",
       "      <td>3</td>\n",
       "      <td>0.4</td>\n",
       "      <td>5</td>\n",
       "      <td>16.62</td>\n",
       "    </tr>\n",
       "    <tr>\n",
       "      <th>746</th>\n",
       "      <td>0.74</td>\n",
       "      <td>686.0</td>\n",
       "      <td>245.0</td>\n",
       "      <td>220.50</td>\n",
       "      <td>3.5</td>\n",
       "      <td>4</td>\n",
       "      <td>0.4</td>\n",
       "      <td>5</td>\n",
       "      <td>16.94</td>\n",
       "    </tr>\n",
       "    <tr>\n",
       "      <th>747</th>\n",
       "      <td>0.74</td>\n",
       "      <td>686.0</td>\n",
       "      <td>245.0</td>\n",
       "      <td>220.50</td>\n",
       "      <td>3.5</td>\n",
       "      <td>5</td>\n",
       "      <td>0.4</td>\n",
       "      <td>5</td>\n",
       "      <td>16.70</td>\n",
       "    </tr>\n",
       "    <tr>\n",
       "      <th>748</th>\n",
       "      <td>0.71</td>\n",
       "      <td>710.5</td>\n",
       "      <td>269.5</td>\n",
       "      <td>220.50</td>\n",
       "      <td>3.5</td>\n",
       "      <td>2</td>\n",
       "      <td>0.4</td>\n",
       "      <td>5</td>\n",
       "      <td>15.59</td>\n",
       "    </tr>\n",
       "    <tr>\n",
       "      <th>749</th>\n",
       "      <td>0.71</td>\n",
       "      <td>710.5</td>\n",
       "      <td>269.5</td>\n",
       "      <td>220.50</td>\n",
       "      <td>3.5</td>\n",
       "      <td>3</td>\n",
       "      <td>0.4</td>\n",
       "      <td>5</td>\n",
       "      <td>14.58</td>\n",
       "    </tr>\n",
       "    <tr>\n",
       "      <th>750</th>\n",
       "      <td>0.71</td>\n",
       "      <td>710.5</td>\n",
       "      <td>269.5</td>\n",
       "      <td>220.50</td>\n",
       "      <td>3.5</td>\n",
       "      <td>4</td>\n",
       "      <td>0.4</td>\n",
       "      <td>5</td>\n",
       "      <td>15.33</td>\n",
       "    </tr>\n",
       "    <tr>\n",
       "      <th>751</th>\n",
       "      <td>0.71</td>\n",
       "      <td>710.5</td>\n",
       "      <td>269.5</td>\n",
       "      <td>220.50</td>\n",
       "      <td>3.5</td>\n",
       "      <td>5</td>\n",
       "      <td>0.4</td>\n",
       "      <td>5</td>\n",
       "      <td>15.31</td>\n",
       "    </tr>\n",
       "    <tr>\n",
       "      <th>752</th>\n",
       "      <td>0.69</td>\n",
       "      <td>735.0</td>\n",
       "      <td>294.0</td>\n",
       "      <td>220.50</td>\n",
       "      <td>3.5</td>\n",
       "      <td>2</td>\n",
       "      <td>0.4</td>\n",
       "      <td>5</td>\n",
       "      <td>16.63</td>\n",
       "    </tr>\n",
       "    <tr>\n",
       "      <th>753</th>\n",
       "      <td>0.69</td>\n",
       "      <td>735.0</td>\n",
       "      <td>294.0</td>\n",
       "      <td>220.50</td>\n",
       "      <td>3.5</td>\n",
       "      <td>3</td>\n",
       "      <td>0.4</td>\n",
       "      <td>5</td>\n",
       "      <td>15.87</td>\n",
       "    </tr>\n",
       "    <tr>\n",
       "      <th>754</th>\n",
       "      <td>0.69</td>\n",
       "      <td>735.0</td>\n",
       "      <td>294.0</td>\n",
       "      <td>220.50</td>\n",
       "      <td>3.5</td>\n",
       "      <td>4</td>\n",
       "      <td>0.4</td>\n",
       "      <td>5</td>\n",
       "      <td>16.54</td>\n",
       "    </tr>\n",
       "    <tr>\n",
       "      <th>755</th>\n",
       "      <td>0.69</td>\n",
       "      <td>735.0</td>\n",
       "      <td>294.0</td>\n",
       "      <td>220.50</td>\n",
       "      <td>3.5</td>\n",
       "      <td>5</td>\n",
       "      <td>0.4</td>\n",
       "      <td>5</td>\n",
       "      <td>16.74</td>\n",
       "    </tr>\n",
       "    <tr>\n",
       "      <th>756</th>\n",
       "      <td>0.66</td>\n",
       "      <td>759.5</td>\n",
       "      <td>318.5</td>\n",
       "      <td>220.50</td>\n",
       "      <td>3.5</td>\n",
       "      <td>2</td>\n",
       "      <td>0.4</td>\n",
       "      <td>5</td>\n",
       "      <td>17.64</td>\n",
       "    </tr>\n",
       "    <tr>\n",
       "      <th>757</th>\n",
       "      <td>0.66</td>\n",
       "      <td>759.5</td>\n",
       "      <td>318.5</td>\n",
       "      <td>220.50</td>\n",
       "      <td>3.5</td>\n",
       "      <td>3</td>\n",
       "      <td>0.4</td>\n",
       "      <td>5</td>\n",
       "      <td>17.79</td>\n",
       "    </tr>\n",
       "    <tr>\n",
       "      <th>758</th>\n",
       "      <td>0.66</td>\n",
       "      <td>759.5</td>\n",
       "      <td>318.5</td>\n",
       "      <td>220.50</td>\n",
       "      <td>3.5</td>\n",
       "      <td>4</td>\n",
       "      <td>0.4</td>\n",
       "      <td>5</td>\n",
       "      <td>17.55</td>\n",
       "    </tr>\n",
       "    <tr>\n",
       "      <th>759</th>\n",
       "      <td>0.66</td>\n",
       "      <td>759.5</td>\n",
       "      <td>318.5</td>\n",
       "      <td>220.50</td>\n",
       "      <td>3.5</td>\n",
       "      <td>5</td>\n",
       "      <td>0.4</td>\n",
       "      <td>5</td>\n",
       "      <td>18.06</td>\n",
       "    </tr>\n",
       "    <tr>\n",
       "      <th>760</th>\n",
       "      <td>0.64</td>\n",
       "      <td>784.0</td>\n",
       "      <td>343.0</td>\n",
       "      <td>220.50</td>\n",
       "      <td>3.5</td>\n",
       "      <td>2</td>\n",
       "      <td>0.4</td>\n",
       "      <td>5</td>\n",
       "      <td>20.82</td>\n",
       "    </tr>\n",
       "    <tr>\n",
       "      <th>761</th>\n",
       "      <td>0.64</td>\n",
       "      <td>784.0</td>\n",
       "      <td>343.0</td>\n",
       "      <td>220.50</td>\n",
       "      <td>3.5</td>\n",
       "      <td>3</td>\n",
       "      <td>0.4</td>\n",
       "      <td>5</td>\n",
       "      <td>20.21</td>\n",
       "    </tr>\n",
       "    <tr>\n",
       "      <th>762</th>\n",
       "      <td>0.64</td>\n",
       "      <td>784.0</td>\n",
       "      <td>343.0</td>\n",
       "      <td>220.50</td>\n",
       "      <td>3.5</td>\n",
       "      <td>4</td>\n",
       "      <td>0.4</td>\n",
       "      <td>5</td>\n",
       "      <td>20.71</td>\n",
       "    </tr>\n",
       "    <tr>\n",
       "      <th>763</th>\n",
       "      <td>0.64</td>\n",
       "      <td>784.0</td>\n",
       "      <td>343.0</td>\n",
       "      <td>220.50</td>\n",
       "      <td>3.5</td>\n",
       "      <td>5</td>\n",
       "      <td>0.4</td>\n",
       "      <td>5</td>\n",
       "      <td>21.40</td>\n",
       "    </tr>\n",
       "    <tr>\n",
       "      <th>764</th>\n",
       "      <td>0.62</td>\n",
       "      <td>808.5</td>\n",
       "      <td>367.5</td>\n",
       "      <td>220.50</td>\n",
       "      <td>3.5</td>\n",
       "      <td>2</td>\n",
       "      <td>0.4</td>\n",
       "      <td>5</td>\n",
       "      <td>16.88</td>\n",
       "    </tr>\n",
       "    <tr>\n",
       "      <th>765</th>\n",
       "      <td>0.62</td>\n",
       "      <td>808.5</td>\n",
       "      <td>367.5</td>\n",
       "      <td>220.50</td>\n",
       "      <td>3.5</td>\n",
       "      <td>3</td>\n",
       "      <td>0.4</td>\n",
       "      <td>5</td>\n",
       "      <td>17.11</td>\n",
       "    </tr>\n",
       "    <tr>\n",
       "      <th>766</th>\n",
       "      <td>0.62</td>\n",
       "      <td>808.5</td>\n",
       "      <td>367.5</td>\n",
       "      <td>220.50</td>\n",
       "      <td>3.5</td>\n",
       "      <td>4</td>\n",
       "      <td>0.4</td>\n",
       "      <td>5</td>\n",
       "      <td>16.61</td>\n",
       "    </tr>\n",
       "    <tr>\n",
       "      <th>767</th>\n",
       "      <td>0.62</td>\n",
       "      <td>808.5</td>\n",
       "      <td>367.5</td>\n",
       "      <td>220.50</td>\n",
       "      <td>3.5</td>\n",
       "      <td>5</td>\n",
       "      <td>0.4</td>\n",
       "      <td>5</td>\n",
       "      <td>16.03</td>\n",
       "    </tr>\n",
       "  </tbody>\n",
       "</table>\n",
       "<p>768 rows × 9 columns</p>\n",
       "</div>"
      ],
      "text/plain": [
       "     Relative_Compactness  Surface_Area  Wall_Area  Roof_Area  Overall_Height  \\\n",
       "0                    0.98         514.5      294.0     110.25             7.0   \n",
       "1                    0.98         514.5      294.0     110.25             7.0   \n",
       "2                    0.98         514.5      294.0     110.25             7.0   \n",
       "3                    0.98         514.5      294.0     110.25             7.0   \n",
       "4                    0.90         563.5      318.5     122.50             7.0   \n",
       "5                    0.90         563.5      318.5     122.50             7.0   \n",
       "6                    0.90         563.5      318.5     122.50             7.0   \n",
       "7                    0.90         563.5      318.5     122.50             7.0   \n",
       "8                    0.86         588.0      294.0     147.00             7.0   \n",
       "9                    0.86         588.0      294.0     147.00             7.0   \n",
       "10                   0.86         588.0      294.0     147.00             7.0   \n",
       "11                   0.86         588.0      294.0     147.00             7.0   \n",
       "12                   0.82         612.5      318.5     147.00             7.0   \n",
       "13                   0.82         612.5      318.5     147.00             7.0   \n",
       "14                   0.82         612.5      318.5     147.00             7.0   \n",
       "15                   0.82         612.5      318.5     147.00             7.0   \n",
       "16                   0.79         637.0      343.0     147.00             7.0   \n",
       "17                   0.79         637.0      343.0     147.00             7.0   \n",
       "18                   0.79         637.0      343.0     147.00             7.0   \n",
       "19                   0.79         637.0      343.0     147.00             7.0   \n",
       "20                   0.76         661.5      416.5     122.50             7.0   \n",
       "21                   0.76         661.5      416.5     122.50             7.0   \n",
       "22                   0.76         661.5      416.5     122.50             7.0   \n",
       "23                   0.76         661.5      416.5     122.50             7.0   \n",
       "24                   0.74         686.0      245.0     220.50             3.5   \n",
       "25                   0.74         686.0      245.0     220.50             3.5   \n",
       "26                   0.74         686.0      245.0     220.50             3.5   \n",
       "27                   0.74         686.0      245.0     220.50             3.5   \n",
       "28                   0.71         710.5      269.5     220.50             3.5   \n",
       "29                   0.71         710.5      269.5     220.50             3.5   \n",
       "..                    ...           ...        ...        ...             ...   \n",
       "738                  0.79         637.0      343.0     147.00             7.0   \n",
       "739                  0.79         637.0      343.0     147.00             7.0   \n",
       "740                  0.76         661.5      416.5     122.50             7.0   \n",
       "741                  0.76         661.5      416.5     122.50             7.0   \n",
       "742                  0.76         661.5      416.5     122.50             7.0   \n",
       "743                  0.76         661.5      416.5     122.50             7.0   \n",
       "744                  0.74         686.0      245.0     220.50             3.5   \n",
       "745                  0.74         686.0      245.0     220.50             3.5   \n",
       "746                  0.74         686.0      245.0     220.50             3.5   \n",
       "747                  0.74         686.0      245.0     220.50             3.5   \n",
       "748                  0.71         710.5      269.5     220.50             3.5   \n",
       "749                  0.71         710.5      269.5     220.50             3.5   \n",
       "750                  0.71         710.5      269.5     220.50             3.5   \n",
       "751                  0.71         710.5      269.5     220.50             3.5   \n",
       "752                  0.69         735.0      294.0     220.50             3.5   \n",
       "753                  0.69         735.0      294.0     220.50             3.5   \n",
       "754                  0.69         735.0      294.0     220.50             3.5   \n",
       "755                  0.69         735.0      294.0     220.50             3.5   \n",
       "756                  0.66         759.5      318.5     220.50             3.5   \n",
       "757                  0.66         759.5      318.5     220.50             3.5   \n",
       "758                  0.66         759.5      318.5     220.50             3.5   \n",
       "759                  0.66         759.5      318.5     220.50             3.5   \n",
       "760                  0.64         784.0      343.0     220.50             3.5   \n",
       "761                  0.64         784.0      343.0     220.50             3.5   \n",
       "762                  0.64         784.0      343.0     220.50             3.5   \n",
       "763                  0.64         784.0      343.0     220.50             3.5   \n",
       "764                  0.62         808.5      367.5     220.50             3.5   \n",
       "765                  0.62         808.5      367.5     220.50             3.5   \n",
       "766                  0.62         808.5      367.5     220.50             3.5   \n",
       "767                  0.62         808.5      367.5     220.50             3.5   \n",
       "\n",
       "     Orientation  Glazing_Area  Glazing_Area_Distribution  Cooling_Load  \n",
       "0              2           0.0                          0         21.33  \n",
       "1              3           0.0                          0         21.33  \n",
       "2              4           0.0                          0         21.33  \n",
       "3              5           0.0                          0         21.33  \n",
       "4              2           0.0                          0         28.28  \n",
       "5              3           0.0                          0         25.38  \n",
       "6              4           0.0                          0         25.16  \n",
       "7              5           0.0                          0         29.60  \n",
       "8              2           0.0                          0         27.30  \n",
       "9              3           0.0                          0         21.97  \n",
       "10             4           0.0                          0         23.49  \n",
       "11             5           0.0                          0         27.87  \n",
       "12             2           0.0                          0         23.77  \n",
       "13             3           0.0                          0         21.46  \n",
       "14             4           0.0                          0         21.16  \n",
       "15             5           0.0                          0         24.93  \n",
       "16             2           0.0                          0         37.73  \n",
       "17             3           0.0                          0         31.27  \n",
       "18             4           0.0                          0         30.93  \n",
       "19             5           0.0                          0         39.44  \n",
       "20             2           0.0                          0         29.79  \n",
       "21             3           0.0                          0         29.68  \n",
       "22             4           0.0                          0         29.79  \n",
       "23             5           0.0                          0         29.40  \n",
       "24             2           0.0                          0         10.90  \n",
       "25             3           0.0                          0         11.19  \n",
       "26             4           0.0                          0         10.94  \n",
       "27             5           0.0                          0         11.17  \n",
       "28             2           0.0                          0         11.27  \n",
       "29             3           0.0                          0         11.72  \n",
       "..           ...           ...                        ...           ...  \n",
       "738            4           0.4                          5         47.01  \n",
       "739            5           0.4                          5         44.87  \n",
       "740            2           0.4                          5         39.37  \n",
       "741            3           0.4                          5         39.80  \n",
       "742            4           0.4                          5         37.79  \n",
       "743            5           0.4                          5         38.18  \n",
       "744            2           0.4                          5         16.69  \n",
       "745            3           0.4                          5         16.62  \n",
       "746            4           0.4                          5         16.94  \n",
       "747            5           0.4                          5         16.70  \n",
       "748            2           0.4                          5         15.59  \n",
       "749            3           0.4                          5         14.58  \n",
       "750            4           0.4                          5         15.33  \n",
       "751            5           0.4                          5         15.31  \n",
       "752            2           0.4                          5         16.63  \n",
       "753            3           0.4                          5         15.87  \n",
       "754            4           0.4                          5         16.54  \n",
       "755            5           0.4                          5         16.74  \n",
       "756            2           0.4                          5         17.64  \n",
       "757            3           0.4                          5         17.79  \n",
       "758            4           0.4                          5         17.55  \n",
       "759            5           0.4                          5         18.06  \n",
       "760            2           0.4                          5         20.82  \n",
       "761            3           0.4                          5         20.21  \n",
       "762            4           0.4                          5         20.71  \n",
       "763            5           0.4                          5         21.40  \n",
       "764            2           0.4                          5         16.88  \n",
       "765            3           0.4                          5         17.11  \n",
       "766            4           0.4                          5         16.61  \n",
       "767            5           0.4                          5         16.03  \n",
       "\n",
       "[768 rows x 9 columns]"
      ]
     },
     "execution_count": 26,
     "metadata": {},
     "output_type": "execute_result"
    }
   ],
   "source": [
    "df_energy"
   ]
  },
  {
   "cell_type": "markdown",
   "metadata": {},
   "source": [
    "Tenemos 8 variables de entrada, todas de tipo `float` excepto `Orientation` y `Glazing Area Distribution`. El número de instancias del dataset es 768, y la variable de salida toma valores reales."
   ]
  },
  {
   "cell_type": "code",
   "execution_count": 27,
   "metadata": {},
   "outputs": [
    {
     "name": "stdout",
     "output_type": "stream",
     "text": [
      "Número de instancias en el dataset:  768\n",
      "\n",
      "\n",
      "Variables del dataset y sus tipos: \n",
      "Relative_Compactness         float64\n",
      "Surface_Area                 float64\n",
      "Wall_Area                    float64\n",
      "Roof_Area                    float64\n",
      "Overall_Height               float64\n",
      "Orientation                    int64\n",
      "Glazing_Area                 float64\n",
      "Glazing_Area_Distribution      int64\n",
      "Cooling_Load                 float64\n",
      "dtype: object\n"
     ]
    }
   ],
   "source": [
    "print \"Número de instancias en el dataset: \", df_energy.shape[0]\n",
    "print \"\\n\\nVariables del dataset y sus tipos: \\n\", df_energy.dtypes"
   ]
  },
  {
   "cell_type": "markdown",
   "metadata": {},
   "source": [
    "Tampoco hay valores nulos en este caso."
   ]
  },
  {
   "cell_type": "code",
   "execution_count": 28,
   "metadata": {},
   "outputs": [
    {
     "data": {
      "text/plain": [
       "False"
      ]
     },
     "execution_count": 28,
     "metadata": {},
     "output_type": "execute_result"
    }
   ],
   "source": [
    "df_energy.isna().values.any()"
   ]
  },
  {
   "cell_type": "markdown",
   "metadata": {},
   "source": [
    "Distribución de las variables de entrada:"
   ]
  },
  {
   "cell_type": "code",
   "execution_count": 29,
   "metadata": {},
   "outputs": [
    {
     "data": {
      "text/plain": [
       "array([<matplotlib.axes._subplots.AxesSubplot object at 0x7f224d469a90>],\n",
       "      dtype=object)"
      ]
     },
     "execution_count": 29,
     "metadata": {},
     "output_type": "execute_result"
    },
    {
     "data": {
      "image/png": "[encoded data removed]",
      "text/plain": [
       "<Figure size 1008x1080 with 8 Axes>"
      ]
     },
     "metadata": {},
     "output_type": "display_data"
    }
   ],
   "source": [
    "fig, axs = plt.subplots(nrows=4, ncols=2, figsize=(14, 15))\n",
    "df_energy.hist(column='Relative_Compactness',bins=20, ax=axs[0][0])\n",
    "df_energy.hist(column='Surface_Area',bins=20, ax=axs[0][1])\n",
    "df_energy.hist(column='Wall_Area',bins=20, ax=axs[1][0])\n",
    "df_energy.hist(column='Roof_Area',bins=20, ax=axs[1][1])\n",
    "df_energy.hist(column='Overall_Height',bins=20, ax=axs[2][0])\n",
    "df_energy.hist(column='Orientation',bins=20, ax=axs[2][1])\n",
    "df_energy.hist(column='Glazing_Area',bins=20, ax=axs[3][0])\n",
    "df_energy.hist(column='Glazing_Area_Distribution',bins=20, ax=axs[3][1])"
   ]
  },
  {
   "cell_type": "markdown",
   "metadata": {},
   "source": [
    "Distribución de la variable de salida:"
   ]
  },
  {
   "cell_type": "code",
   "execution_count": 30,
   "metadata": {},
   "outputs": [
    {
     "data": {
      "text/plain": [
       "array([[<matplotlib.axes._subplots.AxesSubplot object at 0x7f224d6313d0>]],\n",
       "      dtype=object)"
      ]
     },
     "execution_count": 30,
     "metadata": {},
     "output_type": "execute_result"
    },
    {
     "data": {
      "image/png": "[encoded data removed]",
      "text/plain": [
       "<Figure size 432x288 with 1 Axes>"
      ]
     },
     "metadata": {},
     "output_type": "display_data"
    }
   ],
   "source": [
    "df_energy.hist(column='Cooling_Load')"
   ]
  },
  {
   "cell_type": "markdown",
   "metadata": {},
   "source": [
    "Coeficientes de correlación entre las variables de entrada:"
   ]
  },
  {
   "cell_type": "code",
   "execution_count": 31,
   "metadata": {},
   "outputs": [
    {
     "data": {
      "text/html": [
       "<div>\n",
       "<style scoped>\n",
       "    .dataframe tbody tr th:only-of-type {\n",
       "        vertical-align: middle;\n",
       "    }\n",
       "\n",
       "    .dataframe tbody tr th {\n",
       "        vertical-align: top;\n",
       "    }\n",
       "\n",
       "    .dataframe thead th {\n",
       "        text-align: right;\n",
       "    }\n",
       "</style>\n",
       "<table border=\"1\" class=\"dataframe\">\n",
       "  <thead>\n",
       "    <tr style=\"text-align: right;\">\n",
       "      <th></th>\n",
       "      <th>Relative_Compactness</th>\n",
       "      <th>Surface_Area</th>\n",
       "      <th>Wall_Area</th>\n",
       "      <th>Roof_Area</th>\n",
       "      <th>Overall_Height</th>\n",
       "      <th>Orientation</th>\n",
       "      <th>Glazing_Area</th>\n",
       "      <th>Glazing_Area_Distribution</th>\n",
       "    </tr>\n",
       "  </thead>\n",
       "  <tbody>\n",
       "    <tr>\n",
       "      <th>Relative_Compactness</th>\n",
       "      <td>1.000000e+00</td>\n",
       "      <td>-9.919015e-01</td>\n",
       "      <td>-2.037817e-01</td>\n",
       "      <td>-8.688234e-01</td>\n",
       "      <td>8.277473e-01</td>\n",
       "      <td>0.0</td>\n",
       "      <td>1.283986e-17</td>\n",
       "      <td>1.764620e-17</td>\n",
       "    </tr>\n",
       "    <tr>\n",
       "      <th>Surface_Area</th>\n",
       "      <td>-9.919015e-01</td>\n",
       "      <td>1.000000e+00</td>\n",
       "      <td>1.955016e-01</td>\n",
       "      <td>8.807195e-01</td>\n",
       "      <td>-8.581477e-01</td>\n",
       "      <td>0.0</td>\n",
       "      <td>1.318356e-16</td>\n",
       "      <td>-3.558613e-16</td>\n",
       "    </tr>\n",
       "    <tr>\n",
       "      <th>Wall_Area</th>\n",
       "      <td>-2.037817e-01</td>\n",
       "      <td>1.955016e-01</td>\n",
       "      <td>1.000000e+00</td>\n",
       "      <td>-2.923165e-01</td>\n",
       "      <td>2.809757e-01</td>\n",
       "      <td>0.0</td>\n",
       "      <td>-7.969726e-19</td>\n",
       "      <td>0.000000e+00</td>\n",
       "    </tr>\n",
       "    <tr>\n",
       "      <th>Roof_Area</th>\n",
       "      <td>-8.688234e-01</td>\n",
       "      <td>8.807195e-01</td>\n",
       "      <td>-2.923165e-01</td>\n",
       "      <td>1.000000e+00</td>\n",
       "      <td>-9.725122e-01</td>\n",
       "      <td>0.0</td>\n",
       "      <td>-1.381805e-16</td>\n",
       "      <td>-1.079129e-16</td>\n",
       "    </tr>\n",
       "    <tr>\n",
       "      <th>Overall_Height</th>\n",
       "      <td>8.277473e-01</td>\n",
       "      <td>-8.581477e-01</td>\n",
       "      <td>2.809757e-01</td>\n",
       "      <td>-9.725122e-01</td>\n",
       "      <td>1.000000e+00</td>\n",
       "      <td>0.0</td>\n",
       "      <td>1.861418e-18</td>\n",
       "      <td>0.000000e+00</td>\n",
       "    </tr>\n",
       "    <tr>\n",
       "      <th>Orientation</th>\n",
       "      <td>0.000000e+00</td>\n",
       "      <td>0.000000e+00</td>\n",
       "      <td>0.000000e+00</td>\n",
       "      <td>0.000000e+00</td>\n",
       "      <td>0.000000e+00</td>\n",
       "      <td>1.0</td>\n",
       "      <td>0.000000e+00</td>\n",
       "      <td>0.000000e+00</td>\n",
       "    </tr>\n",
       "    <tr>\n",
       "      <th>Glazing_Area</th>\n",
       "      <td>1.283986e-17</td>\n",
       "      <td>1.318356e-16</td>\n",
       "      <td>-7.969726e-19</td>\n",
       "      <td>-1.381805e-16</td>\n",
       "      <td>1.861418e-18</td>\n",
       "      <td>0.0</td>\n",
       "      <td>1.000000e+00</td>\n",
       "      <td>2.129642e-01</td>\n",
       "    </tr>\n",
       "    <tr>\n",
       "      <th>Glazing_Area_Distribution</th>\n",
       "      <td>1.764620e-17</td>\n",
       "      <td>-3.558613e-16</td>\n",
       "      <td>0.000000e+00</td>\n",
       "      <td>-1.079129e-16</td>\n",
       "      <td>0.000000e+00</td>\n",
       "      <td>0.0</td>\n",
       "      <td>2.129642e-01</td>\n",
       "      <td>1.000000e+00</td>\n",
       "    </tr>\n",
       "  </tbody>\n",
       "</table>\n",
       "</div>"
      ],
      "text/plain": [
       "                           Relative_Compactness  Surface_Area     Wall_Area  \\\n",
       "Relative_Compactness               1.000000e+00 -9.919015e-01 -2.037817e-01   \n",
       "Surface_Area                      -9.919015e-01  1.000000e+00  1.955016e-01   \n",
       "Wall_Area                         -2.037817e-01  1.955016e-01  1.000000e+00   \n",
       "Roof_Area                         -8.688234e-01  8.807195e-01 -2.923165e-01   \n",
       "Overall_Height                     8.277473e-01 -8.581477e-01  2.809757e-01   \n",
       "Orientation                        0.000000e+00  0.000000e+00  0.000000e+00   \n",
       "Glazing_Area                       1.283986e-17  1.318356e-16 -7.969726e-19   \n",
       "Glazing_Area_Distribution          1.764620e-17 -3.558613e-16  0.000000e+00   \n",
       "\n",
       "                              Roof_Area  Overall_Height  Orientation  \\\n",
       "Relative_Compactness      -8.688234e-01    8.277473e-01          0.0   \n",
       "Surface_Area               8.807195e-01   -8.581477e-01          0.0   \n",
       "Wall_Area                 -2.923165e-01    2.809757e-01          0.0   \n",
       "Roof_Area                  1.000000e+00   -9.725122e-01          0.0   \n",
       "Overall_Height            -9.725122e-01    1.000000e+00          0.0   \n",
       "Orientation                0.000000e+00    0.000000e+00          1.0   \n",
       "Glazing_Area              -1.381805e-16    1.861418e-18          0.0   \n",
       "Glazing_Area_Distribution -1.079129e-16    0.000000e+00          0.0   \n",
       "\n",
       "                           Glazing_Area  Glazing_Area_Distribution  \n",
       "Relative_Compactness       1.283986e-17               1.764620e-17  \n",
       "Surface_Area               1.318356e-16              -3.558613e-16  \n",
       "Wall_Area                 -7.969726e-19               0.000000e+00  \n",
       "Roof_Area                 -1.381805e-16              -1.079129e-16  \n",
       "Overall_Height             1.861418e-18               0.000000e+00  \n",
       "Orientation                0.000000e+00               0.000000e+00  \n",
       "Glazing_Area               1.000000e+00               2.129642e-01  \n",
       "Glazing_Area_Distribution  2.129642e-01               1.000000e+00  "
      ]
     },
     "execution_count": 31,
     "metadata": {},
     "output_type": "execute_result"
    }
   ],
   "source": [
    "df_energy.iloc[:,:-1].corr(method='pearson')"
   ]
  },
  {
   "cell_type": "markdown",
   "metadata": {},
   "source": [
    "Gráficas con la correlación entre las variables. Las variables correladas son`Relative_Compactness`, `Surface_Area`, `Roof_Area` y `Overall_Height`, todas con todas."
   ]
  },
  {
   "cell_type": "code",
   "execution_count": 32,
   "metadata": {},
   "outputs": [
    {
     "data": {
      "image/png": "[encoded data removed]",
      "text/plain": [
       "<Figure size 432x288 with 1 Axes>"
      ]
     },
     "metadata": {},
     "output_type": "display_data"
    },
    {
     "name": "stdout",
     "output_type": "stream",
     "text": [
      "(-0.9919014616138857, 0.0)\n"
     ]
    },
    {
     "data": {
      "image/png": "[encoded data removed]",
      "text/plain": [
       "<Figure size 432x288 with 1 Axes>"
      ]
     },
     "metadata": {},
     "output_type": "display_data"
    },
    {
     "name": "stdout",
     "output_type": "stream",
     "text": [
      "(-0.2037816803210381, 1.2117825815750788e-08)\n"
     ]
    },
    {
     "data": {
      "image/png": "[encoded data removed]",
      "text/plain": [
       "<Figure size 432x288 with 1 Axes>"
      ]
     },
     "metadata": {},
     "output_type": "display_data"
    },
    {
     "name": "stdout",
     "output_type": "stream",
     "text": [
      "(-0.868823407704476, 4.679446796402357e-236)\n"
     ]
    },
    {
     "data": {
      "image/png": "[encoded data removed]",
      "text/plain": [
       "<Figure size 432x288 with 1 Axes>"
      ]
     },
     "metadata": {},
     "output_type": "display_data"
    },
    {
     "name": "stdout",
     "output_type": "stream",
     "text": [
      "(0.8277473168384282, 2.0276378255072888e-194)\n"
     ]
    },
    {
     "data": {
      "image/png": "[encoded data removed]",
      "text/plain": [
       "<Figure size 432x288 with 1 Axes>"
      ]
     },
     "metadata": {},
     "output_type": "display_data"
    },
    {
     "name": "stdout",
     "output_type": "stream",
     "text": [
      "(0.0, 1.0)\n"
     ]
    },
    {
     "data": {
      "image/png": "[encoded data removed]",
      "text/plain": [
       "<Figure size 432x288 with 1 Axes>"
      ]
     },
     "metadata": {},
     "output_type": "display_data"
    },
    {
     "name": "stdout",
     "output_type": "stream",
     "text": [
      "(-5.1359454976286e-18, 1.0)\n"
     ]
    },
    {
     "data": {
      "image/png": "[encoded data removed]",
      "text/plain": [
       "<Figure size 432x288 with 1 Axes>"
      ]
     },
     "metadata": {},
     "output_type": "display_data"
    },
    {
     "name": "stdout",
     "output_type": "stream",
     "text": [
      "(1.5881578598546248e-17, 1.0)\n"
     ]
    },
    {
     "data": {
      "image/png": "[encoded data removed]",
      "text/plain": [
       "<Figure size 432x288 with 1 Axes>"
      ]
     },
     "metadata": {},
     "output_type": "display_data"
    },
    {
     "name": "stdout",
     "output_type": "stream",
     "text": [
      "(0.19550163278939023, 4.711597996387541e-08)\n"
     ]
    },
    {
     "data": {
      "image/png": "[encoded data removed]",
      "text/plain": [
       "<Figure size 432x288 with 1 Axes>"
      ]
     },
     "metadata": {},
     "output_type": "display_data"
    },
    {
     "name": "stdout",
     "output_type": "stream",
     "text": [
      "(0.8807195166848425, 8.0698111378984e-251)\n"
     ]
    },
    {
     "data": {
      "image/png": "[encoded data removed]",
      "text/plain": [
       "<Figure size 432x288 with 1 Axes>"
      ]
     },
     "metadata": {},
     "output_type": "display_data"
    },
    {
     "name": "stdout",
     "output_type": "stream",
     "text": [
      "(-0.8581476730290196, 5.457730755052165e-224)\n"
     ]
    },
    {
     "data": {
      "image/png": "[encoded data removed]",
      "text/plain": [
       "<Figure size 432x288 with 1 Axes>"
      ]
     },
     "metadata": {},
     "output_type": "display_data"
    },
    {
     "name": "stdout",
     "output_type": "stream",
     "text": [
      "(0.0, 1.0)\n"
     ]
    },
    {
     "data": {
      "image/png": "[encoded data removed]",
      "text/plain": [
       "<Figure size 432x288 with 1 Axes>"
      ]
     },
     "metadata": {},
     "output_type": "display_data"
    },
    {
     "name": "stdout",
     "output_type": "stream",
     "text": [
      "(7.10491069807036e-18, 1.0)\n"
     ]
    },
    {
     "data": {
      "image/png": "[encoded data removed]",
      "text/plain": [
       "<Figure size 432x288 with 1 Axes>"
      ]
     },
     "metadata": {},
     "output_type": "display_data"
    },
    {
     "name": "stdout",
     "output_type": "stream",
     "text": [
      "(4.2855242171583013e-17, 1.0)\n"
     ]
    },
    {
     "data": {
      "image/png": "[encoded data removed]",
      "text/plain": [
       "<Figure size 432x288 with 1 Axes>"
      ]
     },
     "metadata": {},
     "output_type": "display_data"
    },
    {
     "name": "stdout",
     "output_type": "stream",
     "text": [
      "(-0.29231646619489077, 1.3509130358653434e-16)\n"
     ]
    },
    {
     "data": {
      "image/png": "[encoded data removed]",
      "text/plain": [
       "<Figure size 432x288 with 1 Axes>"
      ]
     },
     "metadata": {},
     "output_type": "display_data"
    },
    {
     "name": "stdout",
     "output_type": "stream",
     "text": [
      "(0.28097574347450816, 2.1163824843682698e-15)\n"
     ]
    },
    {
     "data": {
      "image/png": "[encoded data removed]",
      "text/plain": [
       "<Figure size 432x288 with 1 Axes>"
      ]
     },
     "metadata": {},
     "output_type": "display_data"
    },
    {
     "name": "stdout",
     "output_type": "stream",
     "text": [
      "(0.0, 1.0)\n"
     ]
    },
    {
     "data": {
      "image/png": "[encoded data removed]",
      "text/plain": [
       "<Figure size 432x288 with 1 Axes>"
      ]
     },
     "metadata": {},
     "output_type": "display_data"
    },
    {
     "name": "stdout",
     "output_type": "stream",
     "text": [
      "(0.0, 1.0)\n"
     ]
    },
    {
     "data": {
      "image/png": "[encoded data removed]",
      "text/plain": [
       "<Figure size 432x288 with 1 Axes>"
      ]
     },
     "metadata": {},
     "output_type": "display_data"
    },
    {
     "name": "stdout",
     "output_type": "stream",
     "text": [
      "(0.0, 1.0)\n"
     ]
    },
    {
     "data": {
      "image/png": "[encoded data removed]",
      "text/plain": [
       "<Figure size 432x288 with 1 Axes>"
      ]
     },
     "metadata": {},
     "output_type": "display_data"
    },
    {
     "name": "stdout",
     "output_type": "stream",
     "text": [
      "(-0.9725122370185865, 0.0)\n"
     ]
    },
    {
     "data": {
      "image/png": "[encoded data removed]",
      "text/plain": [
       "<Figure size 432x288 with 1 Axes>"
      ]
     },
     "metadata": {},
     "output_type": "display_data"
    },
    {
     "name": "stdout",
     "output_type": "stream",
     "text": [
      "(0.0, 1.0)\n"
     ]
    },
    {
     "data": {
      "image/png": "[encoded data removed]",
      "text/plain": [
       "<Figure size 432x288 with 1 Axes>"
      ]
     },
     "metadata": {},
     "output_type": "display_data"
    },
    {
     "name": "stdout",
     "output_type": "stream",
     "text": [
      "(5.4656369026250015e-17, 1.0)\n"
     ]
    },
    {
     "data": {
      "image/png": "[encoded data removed]",
      "text/plain": [
       "<Figure size 432x288 with 1 Axes>"
      ]
     },
     "metadata": {},
     "output_type": "display_data"
    },
    {
     "name": "stdout",
     "output_type": "stream",
     "text": [
      "(-2.089489879487092e-17, 1.0)\n"
     ]
    },
    {
     "data": {
      "image/png": "[encoded data removed]",
      "text/plain": [
       "<Figure size 432x288 with 1 Axes>"
      ]
     },
     "metadata": {},
     "output_type": "display_data"
    },
    {
     "name": "stdout",
     "output_type": "stream",
     "text": [
      "(0.0, 1.0)\n"
     ]
    },
    {
     "data": {
      "image/png": "[encoded data removed]",
      "text/plain": [
       "<Figure size 432x288 with 1 Axes>"
      ]
     },
     "metadata": {},
     "output_type": "display_data"
    },
    {
     "name": "stdout",
     "output_type": "stream",
     "text": [
      "(-7.445671489089623e-18, 1.0)\n"
     ]
    },
    {
     "data": {
      "image/png": "[encoded data removed]",
      "text/plain": [
       "<Figure size 432x288 with 1 Axes>"
      ]
     },
     "metadata": {},
     "output_type": "display_data"
    },
    {
     "name": "stdout",
     "output_type": "stream",
     "text": [
      "(0.0, 1.0)\n"
     ]
    },
    {
     "data": {
      "image/png": "[encoded data removed]",
      "text/plain": [
       "<Figure size 432x288 with 1 Axes>"
      ]
     },
     "metadata": {},
     "output_type": "display_data"
    },
    {
     "name": "stdout",
     "output_type": "stream",
     "text": [
      "(0.0, 1.0)\n"
     ]
    },
    {
     "data": {
      "image/png": "[encoded data removed]",
      "text/plain": [
       "<Figure size 432x288 with 1 Axes>"
      ]
     },
     "metadata": {},
     "output_type": "display_data"
    },
    {
     "name": "stdout",
     "output_type": "stream",
     "text": [
      "(0.0, 1.0)\n"
     ]
    },
    {
     "data": {
      "image/png": "[encoded data removed]",
      "text/plain": [
       "<Figure size 432x288 with 1 Axes>"
      ]
     },
     "metadata": {},
     "output_type": "display_data"
    },
    {
     "name": "stdout",
     "output_type": "stream",
     "text": [
      "(0.21296422075718996, 2.5110768517008382e-09)\n"
     ]
    }
   ],
   "source": [
    "xx = df_energy.values[:,0:df_energy.shape[1]-1]\n",
    "\n",
    "for i in range(xx.shape[1]):\n",
    "    for j in range(i+1, xx.shape[1]):\n",
    "        plt.plot(xx[:,i], xx[:,j],'ro')\n",
    "        plt.xlabel('x'+str(i))\n",
    "        plt.ylabel('x'+str(j))\n",
    "        plt.show()\n",
    "        #correlation\n",
    "        print stats.pearsonr(xx[:,i], xx[:,j])"
   ]
  },
  {
   "cell_type": "markdown",
   "metadata": {},
   "source": [
    "Fijamos la semilla y dividimos en train/test como en el ejercicio anterior."
   ]
  },
  {
   "cell_type": "code",
   "execution_count": 33,
   "metadata": {},
   "outputs": [],
   "source": [
    "np.random.seed(1)\n",
    "# convertimos el data frame a un dataset para pasar al aprendizaje\n",
    "dataset_energy = df_energy.values\n",
    "\n",
    "xRaw2 = dataset_energy[:,0:dataset_energy.shape[1]-1]\n",
    "y2 = dataset_energy[:,dataset_energy.shape[1]-1]\n",
    "\n",
    "xTrain_tmp2, xTest_tmp2, yTrain2, yTest2 = cross_validation.train_test_split(xRaw2, y2, test_size=0.2)\n",
    "\n",
    "scaler2 = preprocessing.StandardScaler().fit(xTrain_tmp2)\n",
    "xTrain2=scaler2.transform(xTrain_tmp2)\n",
    "xTest2=scaler2.transform(xTest_tmp2)"
   ]
  },
  {
   "cell_type": "markdown",
   "metadata": {},
   "source": [
    "El proceso de entrenamiento es el mismo que en el caso anterior, pero utilizando el algoritmo `KNeighborsRegressor`, siendo la medida de error el error cuadrático medio, que por defecto viene en `scikit-learn` en negativo. Por ello, cuando añadimos el error a la lista de errores, le cambiamos el signo."
   ]
  },
  {
   "cell_type": "code",
   "execution_count": 34,
   "metadata": {
    "scrolled": true
   },
   "outputs": [
    {
     "name": "stdout",
     "output_type": "stream",
     "text": [
      "Best hyperparameter {'n_neighbors': 2}\n",
      "\n",
      "\n",
      "\n",
      "-8.376 (+/-1.805) for {'n_neighbors': 1}\n",
      "-5.971 (+/-0.687) for {'n_neighbors': 2}\n",
      "-6.746 (+/-0.297) for {'n_neighbors': 3}\n",
      "-7.129 (+/-0.562) for {'n_neighbors': 4}\n",
      "-7.754 (+/-0.711) for {'n_neighbors': 5}\n",
      "-7.818 (+/-0.524) for {'n_neighbors': 6}\n",
      "-7.658 (+/-0.729) for {'n_neighbors': 7}\n",
      "-7.853 (+/-0.570) for {'n_neighbors': 8}\n",
      "-7.934 (+/-0.482) for {'n_neighbors': 9}\n",
      "-8.256 (+/-0.616) for {'n_neighbors': 10}\n",
      "-8.424 (+/-0.677) for {'n_neighbors': 11}\n",
      "-8.499 (+/-0.425) for {'n_neighbors': 12}\n",
      "-8.495 (+/-0.271) for {'n_neighbors': 13}\n",
      "-8.642 (+/-0.396) for {'n_neighbors': 14}\n",
      "-8.720 (+/-0.445) for {'n_neighbors': 15}\n",
      "-8.737 (+/-0.464) for {'n_neighbors': 16}\n",
      "-8.744 (+/-0.438) for {'n_neighbors': 17}\n",
      "-8.843 (+/-0.403) for {'n_neighbors': 18}\n",
      "-9.013 (+/-0.385) for {'n_neighbors': 19}\n",
      "-9.150 (+/-0.430) for {'n_neighbors': 20}\n",
      "-9.215 (+/-0.468) for {'n_neighbors': 21}\n",
      "-9.222 (+/-0.530) for {'n_neighbors': 22}\n",
      "-9.281 (+/-0.556) for {'n_neighbors': 23}\n",
      "-9.354 (+/-0.462) for {'n_neighbors': 24}\n",
      "-9.444 (+/-0.488) for {'n_neighbors': 25}\n",
      "-9.596 (+/-0.501) for {'n_neighbors': 26}\n",
      "-9.707 (+/-0.591) for {'n_neighbors': 27}\n",
      "-9.788 (+/-0.569) for {'n_neighbors': 28}\n",
      "-9.857 (+/-0.684) for {'n_neighbors': 29}\n",
      "-9.944 (+/-0.692) for {'n_neighbors': 30}\n",
      "-10.044 (+/-0.712) for {'n_neighbors': 31}\n",
      "-10.116 (+/-0.726) for {'n_neighbors': 32}\n",
      "-10.182 (+/-0.694) for {'n_neighbors': 33}\n",
      "-10.257 (+/-0.665) for {'n_neighbors': 34}\n",
      "-10.299 (+/-0.650) for {'n_neighbors': 35}\n",
      "-10.338 (+/-0.649) for {'n_neighbors': 36}\n",
      "-10.398 (+/-0.606) for {'n_neighbors': 37}\n",
      "-10.470 (+/-0.588) for {'n_neighbors': 38}\n",
      "-10.556 (+/-0.564) for {'n_neighbors': 39}\n",
      "-10.621 (+/-0.557) for {'n_neighbors': 40}\n",
      "-10.633 (+/-0.577) for {'n_neighbors': 41}\n",
      "-10.640 (+/-0.577) for {'n_neighbors': 42}\n",
      "-10.704 (+/-0.577) for {'n_neighbors': 43}\n",
      "-10.753 (+/-0.586) for {'n_neighbors': 44}\n",
      "-10.720 (+/-0.552) for {'n_neighbors': 45}\n",
      "-10.729 (+/-0.522) for {'n_neighbors': 46}\n",
      "-10.781 (+/-0.552) for {'n_neighbors': 47}\n",
      "-10.757 (+/-0.520) for {'n_neighbors': 48}\n",
      "-10.755 (+/-0.482) for {'n_neighbors': 49}\n",
      "-10.782 (+/-0.467) for {'n_neighbors': 50}\n",
      "-10.831 (+/-0.470) for {'n_neighbors': 51}\n",
      "-10.838 (+/-0.522) for {'n_neighbors': 52}\n",
      "-10.857 (+/-0.540) for {'n_neighbors': 53}\n",
      "-10.853 (+/-0.511) for {'n_neighbors': 54}\n",
      "-10.900 (+/-0.540) for {'n_neighbors': 55}\n",
      "-10.945 (+/-0.580) for {'n_neighbors': 56}\n",
      "-10.957 (+/-0.574) for {'n_neighbors': 57}\n",
      "-10.993 (+/-0.574) for {'n_neighbors': 58}\n",
      "-11.031 (+/-0.604) for {'n_neighbors': 59}\n",
      "-11.082 (+/-0.601) for {'n_neighbors': 60}\n",
      "-11.096 (+/-0.595) for {'n_neighbors': 61}\n",
      "-11.102 (+/-0.610) for {'n_neighbors': 62}\n",
      "-11.127 (+/-0.601) for {'n_neighbors': 63}\n",
      "-11.164 (+/-0.591) for {'n_neighbors': 64}\n",
      "-11.190 (+/-0.630) for {'n_neighbors': 65}\n",
      "-11.190 (+/-0.654) for {'n_neighbors': 66}\n",
      "-11.202 (+/-0.659) for {'n_neighbors': 67}\n",
      "-11.202 (+/-0.669) for {'n_neighbors': 68}\n",
      "-11.219 (+/-0.664) for {'n_neighbors': 69}\n",
      "-11.234 (+/-0.675) for {'n_neighbors': 70}\n",
      "-11.215 (+/-0.668) for {'n_neighbors': 71}\n",
      "-11.218 (+/-0.639) for {'n_neighbors': 72}\n",
      "-11.224 (+/-0.634) for {'n_neighbors': 73}\n",
      "-11.245 (+/-0.630) for {'n_neighbors': 74}\n",
      "-11.271 (+/-0.656) for {'n_neighbors': 75}\n",
      "-11.305 (+/-0.667) for {'n_neighbors': 76}\n",
      "-11.310 (+/-0.690) for {'n_neighbors': 77}\n",
      "-11.329 (+/-0.709) for {'n_neighbors': 78}\n",
      "-11.328 (+/-0.677) for {'n_neighbors': 79}\n",
      "-11.348 (+/-0.667) for {'n_neighbors': 80}\n",
      "-11.386 (+/-0.659) for {'n_neighbors': 81}\n",
      "-11.420 (+/-0.642) for {'n_neighbors': 82}\n",
      "-11.421 (+/-0.658) for {'n_neighbors': 83}\n",
      "-11.441 (+/-0.672) for {'n_neighbors': 84}\n",
      "-11.480 (+/-0.668) for {'n_neighbors': 85}\n",
      "-11.507 (+/-0.674) for {'n_neighbors': 86}\n",
      "-11.548 (+/-0.719) for {'n_neighbors': 87}\n",
      "-11.584 (+/-0.745) for {'n_neighbors': 88}\n",
      "-11.621 (+/-0.723) for {'n_neighbors': 89}\n",
      "-11.630 (+/-0.757) for {'n_neighbors': 90}\n"
     ]
    }
   ],
   "source": [
    "#Generate grid search\n",
    "totalNeighbors2 = 90\n",
    "hyperParams2 = {'n_neighbors': range(1,totalNeighbors2+1)}\n",
    "\n",
    "#Create an instance of Neighbors Classifier and fit the data for the grid parameters\n",
    "modelCV2 = GridSearchCV(neighbors.KNeighborsRegressor(), \n",
    "                     hyperParams2, cv=5, scoring='neg_mean_squared_error')\n",
    "modelCV2.fit(xTrain2, yTrain2)\n",
    "print \"Best hyperparameter\", modelCV2.best_params_\n",
    "print \"\\n\\n\"\n",
    "\n",
    "neighList2, errList2, devList2 = [], [], []\n",
    "for hyperP, mean_score, scores in modelCV2.grid_scores_:\n",
    "    print(\"%0.3f (+/-%0.03f) for %r\"\n",
    "              % (mean_score, scores.std(), hyperP))\n",
    "    neighList2.append(hyperP['n_neighbors'])\n",
    "    errList2.append(-mean_score)\n",
    "    devList2.append(scores.std())"
   ]
  },
  {
   "cell_type": "markdown",
   "metadata": {},
   "source": [
    "Gráfica del error de entrenamiento:"
   ]
  },
  {
   "cell_type": "code",
   "execution_count": 35,
   "metadata": {},
   "outputs": [
    {
     "data": {
      "image/png": "[encoded data removed]",
      "text/plain": [
       "<Figure size 432x288 with 1 Axes>"
      ]
     },
     "metadata": {},
     "output_type": "display_data"
    }
   ],
   "source": [
    "plt.errorbar(neighList2, errList2, yerr=devList2)\n",
    "plt.xlim(neighList2[0]-1, neighList2[len(neighList2)-1]+1)\n",
    "plt.show()"
   ]
  },
  {
   "cell_type": "markdown",
   "metadata": {},
   "source": [
    "Menor error de entrenamiento, su hiperparámetro y su desviación típica:"
   ]
  },
  {
   "cell_type": "code",
   "execution_count": 36,
   "metadata": {},
   "outputs": [
    {
     "name": "stdout",
     "output_type": "stream",
     "text": [
      "Mejor hiperparámetro: 2  vecinos\n",
      "\n",
      "Error de entrenamiento:  5.97149837134\n",
      "\n",
      "Std:  0.6873352831206467\n"
     ]
    }
   ],
   "source": [
    "##Menor error CV\n",
    "best_param_cv2 = modelCV2.best_params_['n_neighbors']\n",
    "print \"Mejor hiperparámetro:\" , best_param_cv2, \" vecinos\"\n",
    "print \"\\nError de entrenamiento: \", errList2[best_param_cv2-1]\n",
    "print \"\\nStd: \", devList2[best_param_cv2-1]"
   ]
  },
  {
   "cell_type": "markdown",
   "metadata": {},
   "source": [
    "Obtenemos el mejor hiperparámetro atendiendo a la regla de una desviación estándar como en el ejercicio anterior. En este caso, es el mismo que usando el error cuadrático medio."
   ]
  },
  {
   "cell_type": "code",
   "execution_count": 37,
   "metadata": {},
   "outputs": [],
   "source": [
    "dev_best_model2 = devList2[best_param_cv2-1]\n",
    "params_one_dev2 = [neighList2[i] for i in range(0,totalNeighbors2) if errList2[i] < errList2[best_param_cv2-1] + dev_best_model2]\n",
    "best_param_one_dev2 = max(params_one_dev2)"
   ]
  },
  {
   "cell_type": "markdown",
   "metadata": {},
   "source": [
    "Obtenemos el error de test para cada hiperparámetro."
   ]
  },
  {
   "cell_type": "code",
   "execution_count": 38,
   "metadata": {},
   "outputs": [],
   "source": [
    "#Test error\n",
    "testErrList2=[]\n",
    "for nNeighbors in range(1, totalNeighbors2+1):\n",
    "    model = neighbors.KNeighborsRegressor(n_neighbors = nNeighbors)\n",
    "    model.fit(xTrain2, yTrain2)\n",
    "    yPred=model.predict(xTest2)\n",
    "    testErrList2.append(metrics.mean_squared_error(yTest2,yPred))"
   ]
  },
  {
   "cell_type": "markdown",
   "metadata": {},
   "source": [
    "Gráficas con el error de test y el error de entrenamiento comparado con el de test, con respecto al número de vecinos."
   ]
  },
  {
   "cell_type": "code",
   "execution_count": 39,
   "metadata": {},
   "outputs": [
    {
     "data": {
      "text/plain": [
       "<ErrorbarContainer object of 3 artists>"
      ]
     },
     "execution_count": 39,
     "metadata": {},
     "output_type": "execute_result"
    },
    {
     "data": {
      "image/png": "[encoded data removed]",
      "text/plain": [
       "<Figure size 1008x288 with 2 Axes>"
      ]
     },
     "metadata": {},
     "output_type": "display_data"
    }
   ],
   "source": [
    "fig, axs = plt.subplots(ncols=2, figsize=(14, 4))\n",
    "\n",
    "axs[0].errorbar(neighList2, testErrList2)\n",
    "plt.xlim(neighList2[0]-1, neighList2[len(neighList2)-1]+1)\n",
    "\n",
    "axs[1].errorbar(neighList2, errList2, yerr=devList2)\n",
    "plt.xlim(neighList2[0]-1, neighList2[len(neighList2)-1]+1)\n",
    "axs[1].errorbar(neighList2, testErrList2) "
   ]
  },
  {
   "cell_type": "markdown",
   "metadata": {},
   "source": [
    "Mostramos el menor error de test, y el error de test para el mejor hiperparámetro de la cross validación y la regla de una desviación estándar, que es el mismo."
   ]
  },
  {
   "cell_type": "code",
   "execution_count": 40,
   "metadata": {},
   "outputs": [
    {
     "name": "stdout",
     "output_type": "stream",
     "text": [
      "Menor error de test:  9.759098925765596  conseguido para el parámetro n_neighbors = 9\n",
      "Error de test para el parámetro n_neighbors = 2  elegido por la CV: 12.956168831168831\n",
      "Error de test para el parámetro n_neighbors = 2  elegido por el método one standard error rule:  12.956168831168831\n"
     ]
    }
   ],
   "source": [
    "best_param_test2 = np.argmin(testErrList2)+1\n",
    "print \"Menor error de test: \", min(testErrList2), \" conseguido para el parámetro n_neighbors =\", best_param_test2\n",
    "print \"Error de test para el parámetro n_neighbors =\", best_param_cv2,\" elegido por la CV:\", testErrList2[best_param_cv2-1]\n",
    "print \"Error de test para el parámetro n_neighbors =\", best_param_one_dev2, \" elegido por el método one standard error rule: \", testErrList2[best_param_one_dev2-1]\n"
   ]
  }
 ],
 "metadata": {
  "kernelspec": {
   "display_name": "Python 2",
   "language": "python",
   "name": "python2"
  },
  "language_info": {
   "codemirror_mode": {
    "name": "ipython",
    "version": 2
   },
   "file_extension": ".py",
   "mimetype": "text/x-python",
   "name": "python",
   "nbconvert_exporter": "python",
   "pygments_lexer": "ipython2",
   "version": "2.7.15+"
  }
 },
 "nbformat": 4,
 "nbformat_minor": 2
}
