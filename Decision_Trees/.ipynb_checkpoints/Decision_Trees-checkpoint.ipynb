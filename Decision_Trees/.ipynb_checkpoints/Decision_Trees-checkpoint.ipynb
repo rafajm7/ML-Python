{
 "cells": [
  {
   "cell_type": "markdown",
   "metadata": {},
   "source": [
    "# Ejercicio 1"
   ]
  },
  {
   "cell_type": "code",
   "execution_count": 1,
   "metadata": {},
   "outputs": [
    {
     "data": {
      "text/plain": [
       "array([[ 4,  3, -1,  1],\n",
       "       [-3, -1, -1,  0],\n",
       "       [ 3, -2,  0,  0],\n",
       "       [ 1,  4,  0,  1],\n",
       "       [-2,  3,  1,  0],\n",
       "       [-3,  5,  5,  0]])"
      ]
     },
     "execution_count": 1,
     "metadata": {},
     "output_type": "execute_result"
    }
   ],
   "source": [
    "import numpy as np\n",
    "from __future__ import division\n",
    "from math import log\n",
    "\n",
    "dataset = np.array([[4,3,-1,1], [-3,-1,-1,0], [3,-2,0,0], [1,4,0,1], [-2,3,1,0], [-3,5,5,0]])\n",
    "X = dataset[:,0:dataset.shape[1]-1]\n",
    "Y = dataset[:,dataset.shape[1]-1]\n",
    "dataset"
   ]
  },
  {
   "cell_type": "markdown",
   "metadata": {},
   "source": [
    "Función que calcula la entropía dado el número de elementos que cumplen una determinada condición y el número de esos elementos cuya clase de salida es 0. El número de unos se obtiene restando estos dos valores. Si el número de ceros o el de unos es cero, no se aplica el logaritmo (se suma 0) para que la función no dé error."
   ]
  },
  {
   "cell_type": "code",
   "execution_count": 2,
   "metadata": {},
   "outputs": [],
   "source": [
    "def get_entropy(n_elements, n_zeros):\n",
    "    n_ones = n_elements - n_zeros\n",
    "    part_zeros = 0\n",
    "    part_ones = 0\n",
    "    if (n_zeros != 0):\n",
    "        part_zeros = (-n_zeros/n_elements)*log(n_zeros/n_elements, 2)\n",
    "    if (n_ones != 0):\n",
    "        part_ones = (-n_ones/n_elements)*log(n_ones/n_elements, 2)\n",
    "    return part_zeros + part_ones "
   ]
  },
  {
   "cell_type": "markdown",
   "metadata": {},
   "source": [
    "A continuación mostramos la función que devuelve el split siguiente para un determinado conjunto. Para hacerlo, obtiene los valores posibles que puede tomar cada una de las variables de entrada del conjunto (*possible_values*) y calcula la entropía para todos los splits de las mismas.\n",
    "\n",
    "Por ejemplo, para el dataset anterior, el primer split sería: los elementos menores que -2 y los elementos mayores o iguales que -2. Una vez obtenida la entropía para ambos casos, se obtiene la entropía final teniendo en cuenta el peso que tiene cada división sobre el dataset total. La función devuelve la menor entropía, la variable con la que se consigue, y el valor de la misma."
   ]
  },
  {
   "cell_type": "code",
   "execution_count": 3,
   "metadata": {},
   "outputs": [],
   "source": [
    "def get_split(subset):\n",
    "    subset_t = subset[:,0:subset.shape[1]-1].transpose()\n",
    "    nsamples = len(subset)\n",
    "    lowest_entropy = [1,1,1]\n",
    "    for idx, elem in enumerate(subset_t):\n",
    "        possible_values = np.unique(elem).tolist()[1:]\n",
    "        for unique_value in possible_values:\n",
    "            menores = [x for x in subset if x[idx] < unique_value]\n",
    "            mayores = [x for x in subset if x[idx] >= unique_value]\n",
    "            count_0_menores = len([x for x in menores if x[len(subset_t)] == 0]) \n",
    "            count_0_mayores = len([x for x in mayores if x[len(subset_t)] == 0])\n",
    "            \n",
    "            entropy_menor = get_entropy(len(menores), count_0_menores)\n",
    "            entropy_mayor = get_entropy(len(mayores), count_0_mayores)\n",
    "            entropy = (len(menores)/nsamples)*entropy_menor + (len(mayores)/nsamples)*entropy_mayor\n",
    "            \n",
    "            if lowest_entropy[0] > entropy:\n",
    "                lowest_entropy = [entropy,entropy_menor,entropy_mayor]\n",
    "                variable_split = idx\n",
    "                value_split = unique_value\n",
    "    return lowest_entropy, variable_split, value_split"
   ]
  },
  {
   "cell_type": "markdown",
   "metadata": {},
   "source": [
    "Obtenemos la entropía para el nodo raíz:"
   ]
  },
  {
   "cell_type": "code",
   "execution_count": 4,
   "metadata": {},
   "outputs": [
    {
     "name": "stdout",
     "output_type": "stream",
     "text": [
      "La entropía para el nodo raíz es:  0.918295834054\n"
     ]
    }
   ],
   "source": [
    "print \"La entropía para el nodo raíz es: \", get_entropy(6,4)"
   ]
  },
  {
   "cell_type": "markdown",
   "metadata": {},
   "source": [
    "Obtenemos el primer split para el dataset."
   ]
  },
  {
   "cell_type": "code",
   "execution_count": 5,
   "metadata": {},
   "outputs": [
    {
     "name": "stdout",
     "output_type": "stream",
     "text": [
      "La variable por la que se divide en el primer nodo es X_1\n",
      "El valor umbral por el que se divide es:  1\n",
      "La entropía final para esa variable y ese valor es:  0.459147917027\n",
      "La entropía para el nodo correspondiente a X_1 < 1 es:  0.0\n",
      "La entropía para el nodo correspondiente a X_1 >= 1 es:  0.918295834054\n"
     ]
    }
   ],
   "source": [
    "entropy, var_split, value = get_split(dataset)\n",
    "print \"La variable por la que se divide en el primer nodo es X_\"+str(var_split+1)\n",
    "print \"El valor umbral por el que se divide es: \", value\n",
    "print \"La entropía final para esa variable y ese valor es: \", entropy[0]\n",
    "print \"La entropía para el nodo correspondiente a X_1 < 1 es: \", entropy[1]\n",
    "print \"La entropía para el nodo correspondiente a X_1 >= 1 es: \", entropy[2]"
   ]
  },
  {
   "cell_type": "markdown",
   "metadata": {},
   "source": [
    "Dividimos el dataset en dos subconjuntos en función de $X_1$: los que tienen $X_1<1$ y los que tienen $X_1\\geq1$."
   ]
  },
  {
   "cell_type": "code",
   "execution_count": 6,
   "metadata": {},
   "outputs": [],
   "source": [
    "subset1 = np.array([x.tolist() for x in dataset if x[var_split] < value])\n",
    "subset2 = np.array([x.tolist() for x in dataset if x[var_split] >= value])"
   ]
  },
  {
   "cell_type": "markdown",
   "metadata": {},
   "source": [
    "Se puede observar que el valor de la variable $Y$ es 0 para todas las observaciones del conjunto con $X_1<1$, por lo que estamos ante un nodo hoja, con clase $Y = 0$.\n",
    "\n",
    "Sin embargo, para el subconjunto que cumple $X_1\\geq1$ sí que hay que dividir."
   ]
  },
  {
   "cell_type": "code",
   "execution_count": 7,
   "metadata": {},
   "outputs": [
    {
     "name": "stdout",
     "output_type": "stream",
     "text": [
      "Primer subconjunto:\n",
      "[[-3 -1 -1  0]\n",
      " [-2  3  1  0]\n",
      " [-3  5  5  0]]\n",
      "\n",
      "La clase para los elementos con X_1<1 es Y=-1\n",
      "\n",
      "Los ejemplos que pertenecen a esa clase son:  [2, 5, 6]\n",
      "\n",
      "Segundo subconjunto:\n",
      "[[ 4  3 -1  1]\n",
      " [ 3 -2  0  0]\n",
      " [ 1  4  0  1]]\n"
     ]
    }
   ],
   "source": [
    "print \"Primer subconjunto:\\n\", subset1\n",
    "print \"\\nLa clase para los elementos con X_1<1 es Y=\"+str(subset1[0][3])\n",
    "elementos_subset1 = [idx+1 for idx, x in enumerate(dataset) if x[var_split] < value]\n",
    "print \"\\nLos ejemplos que pertenecen a esa clase son: \", elementos_subset1\n",
    "print '\\nSegundo subconjunto:\\n',subset2"
   ]
  },
  {
   "cell_type": "markdown",
   "metadata": {},
   "source": [
    "Obtenemos el split para el segundo subconjunto:"
   ]
  },
  {
   "cell_type": "code",
   "execution_count": 8,
   "metadata": {},
   "outputs": [
    {
     "name": "stdout",
     "output_type": "stream",
     "text": [
      "La variable por la que se divide en el nodo X_1 >= 1 es X_2\n",
      "El valor umbral por el que se divide es:  3\n",
      "La entropía final para esa variable y ese valor es:  0.0\n",
      "La entropía para el nodo correspondiente a X_2 < 3 es:  0.0\n",
      "La entropía para el nodo correspondiente a X_2 >= 3 es:  0.0\n"
     ]
    }
   ],
   "source": [
    "subset1 = np.delete(subset1,0,var_split+1)\n",
    "subset2 = np.delete(subset2,0,var_split+1)\n",
    "entropy2, var_split2, value2 = get_split(subset2)\n",
    "print \"La variable por la que se divide en el nodo X_1 >= 1 es X_\"+str(var_split2+2)\n",
    "print \"El valor umbral por el que se divide es: \", value2\n",
    "print \"La entropía final para esa variable y ese valor es: \", entropy2[0]\n",
    "print \"La entropía para el nodo correspondiente a X_2 < 3 es: \", entropy2[1]\n",
    "print \"La entropía para el nodo correspondiente a X_2 >= 3 es: \", entropy2[2]"
   ]
  },
  {
   "cell_type": "markdown",
   "metadata": {},
   "source": [
    "Dividimos a continuación el subconjunto en dos nuevos subconjuntos, los que cumplen que $X_2<3$ y los que satisfacen $X_2\\geq3$."
   ]
  },
  {
   "cell_type": "code",
   "execution_count": 9,
   "metadata": {},
   "outputs": [],
   "source": [
    "subset21 = np.array([x.tolist() for x in subset2 if x[var_split2] < value2])\n",
    "subset22 = np.array([x.tolist() for x in subset2 if x[var_split2] >= value2])"
   ]
  },
  {
   "cell_type": "markdown",
   "metadata": {},
   "source": [
    "Se puede observar que el valor de la variable $Y$ es 0 para todaas las observaciones del conjunto con $X_2<3$, por lo que estamos ante un nodo hoja, con clase $Y = 0$.\n",
    "\n",
    "Por otro lado, todas las observaciones con $X_2 \\geq 3$ tienen como valor de la variable de salida $Y=1$, luego también es un nodo hoja."
   ]
  },
  {
   "cell_type": "code",
   "execution_count": 10,
   "metadata": {},
   "outputs": [
    {
     "name": "stdout",
     "output_type": "stream",
     "text": [
      "Primer subconjunto:\n",
      "[[-2  0  0]]\n",
      "\n",
      "La clase para los elementos con X_2<3 es Y=0\n",
      "\n",
      "Los ejemplos que pertenecen a esa clase son:  [3]\n",
      "\n",
      "\n",
      "Segundo subconjunto:\n",
      "[[ 3 -1  1]\n",
      " [ 4  0  1]]\n",
      "\n",
      "La clase para los elementos con X_2<3 es Y=1\n",
      "\n",
      "Los ejemplos que pertenecen a esa clase son:  [1, 4]\n"
     ]
    }
   ],
   "source": [
    "print \"Primer subconjunto:\\n\", subset21\n",
    "print \"\\nLa clase para los elementos con X_2<3 es Y=\"+str(subset21[0][2])\n",
    "elementos_subset21 = [idx+1 for idx, x in enumerate(dataset) if x[var_split2++1] < value2 and x[var_split] >= value]\n",
    "print \"\\nLos ejemplos que pertenecen a esa clase son: \", elementos_subset21\n",
    "\n",
    "print '\\n\\nSegundo subconjunto:\\n',subset22\n",
    "print \"\\nLa clase para los elementos con X_2<3 es Y=\"+str(subset22[0][2])\n",
    "elementos_subset22 = [idx+1 for idx, x in enumerate(dataset) if x[var_split+1] >= value2 and x[var_split] >= value]\n",
    "print \"\\nLos ejemplos que pertenecen a esa clase son: \", elementos_subset22\n",
    "\n"
   ]
  },
  {
   "cell_type": "markdown",
   "metadata": {},
   "source": [
    "Las divisiones del árbol han sido las siguientes:\n",
    "\n",
    "- $X_1 <1  \\longrightarrow  Y = 0$\n",
    "- $X_1 \\geq 1$:\n",
    "    - $X_2 < 3 \\longrightarrow Y = 0$\n",
    "    - $X_2 \\geq 3 \\longrightarrow Y = 1$"
   ]
  },
  {
   "cell_type": "markdown",
   "metadata": {},
   "source": [
    "# Ejercicio 2"
   ]
  },
  {
   "cell_type": "markdown",
   "metadata": {},
   "source": [
    "Importamos las librerías necesarias para la realización de los ejercicios 2 y 3."
   ]
  },
  {
   "cell_type": "code",
   "execution_count": 11,
   "metadata": {},
   "outputs": [
    {
     "name": "stderr",
     "output_type": "stream",
     "text": [
      "/usr/local/lib/python2.7/dist-packages/sklearn/cross_validation.py:44: DeprecationWarning: This module was deprecated in version 0.18 in favor of the model_selection module into which all the refactored classes and functions are moved. Also note that the interface of the new CV iterators are different from that of this module. This module will be removed in 0.20.\n",
      "  \"This module will be removed in 0.20.\", DeprecationWarning)\n",
      "/usr/local/lib/python2.7/dist-packages/sklearn/grid_search.py:43: DeprecationWarning: This module was deprecated in version 0.18 in favor of the model_selection module into which all the refactored classes and functions are moved. This module will be removed in 0.20.\n",
      "  DeprecationWarning)\n"
     ]
    }
   ],
   "source": [
    "from sklearn import preprocessing, cross_validation, tree\n",
    "from sklearn.grid_search import GridSearchCV\n",
    "from sklearn.preprocessing import Imputer\n",
    "from sklearn.externals import joblib\n",
    "import sklearn.metrics as metrics\n",
    "\n",
    "import numpy as np\n",
    "%matplotlib inline\n",
    "import matplotlib.pyplot as plt\n",
    "from matplotlib.colors import ListedColormap"
   ]
  },
  {
   "cell_type": "code",
   "execution_count": 12,
   "metadata": {},
   "outputs": [],
   "source": [
    "np.random.seed(1)\n",
    "datasetName = '../datos/bloodTransfusion.data'\n",
    "datasetDelimiter = ','\n",
    "\n",
    "# load the CSV file as a numpy matrix\n",
    "dataset = np.loadtxt(datasetName, delimiter=datasetDelimiter)\n",
    "xRaw = dataset[:,0:dataset.shape[1]-1]\n",
    "y = dataset[:,dataset.shape[1]-1]\n",
    "y=y.astype('int')\n",
    "\n",
    "#Divide in training and test, shuffling the examples and keeping the proportion of examples of each class\n",
    "xTrain, xTest, yTrain, yTest = cross_validation.train_test_split(xRaw, y, test_size=0.2)"
   ]
  },
  {
   "cell_type": "markdown",
   "metadata": {},
   "source": [
    "El mínimo número de observaciones para hacer un split elegido ha sido de 1 a 130. A continuación se muestra el mejor hiperparámetro, junto con su *accuracy* y su desviación típica."
   ]
  },
  {
   "cell_type": "code",
   "execution_count": 13,
   "metadata": {
    "scrolled": true
   },
   "outputs": [
    {
     "name": "stdout",
     "output_type": "stream",
     "text": [
      "Best hyperparameter {'min_samples_split': 102}\n",
      "\n",
      "\n",
      "\n",
      "0.744 (+/-0.040) for {'min_samples_split': 2}\n",
      "0.744 (+/-0.034) for {'min_samples_split': 3}\n",
      "0.747 (+/-0.038) for {'min_samples_split': 4}\n",
      "0.763 (+/-0.045) for {'min_samples_split': 5}\n",
      "0.761 (+/-0.039) for {'min_samples_split': 6}\n",
      "0.768 (+/-0.029) for {'min_samples_split': 7}\n",
      "0.763 (+/-0.035) for {'min_samples_split': 8}\n",
      "0.758 (+/-0.025) for {'min_samples_split': 9}\n",
      "0.761 (+/-0.027) for {'min_samples_split': 10}\n",
      "0.744 (+/-0.032) for {'min_samples_split': 11}\n",
      "0.741 (+/-0.034) for {'min_samples_split': 12}\n",
      "0.744 (+/-0.035) for {'min_samples_split': 13}\n",
      "0.747 (+/-0.030) for {'min_samples_split': 14}\n",
      "0.747 (+/-0.030) for {'min_samples_split': 15}\n",
      "0.749 (+/-0.033) for {'min_samples_split': 16}\n",
      "0.751 (+/-0.029) for {'min_samples_split': 17}\n",
      "0.747 (+/-0.028) for {'min_samples_split': 18}\n",
      "0.747 (+/-0.028) for {'min_samples_split': 19}\n",
      "0.756 (+/-0.032) for {'min_samples_split': 20}\n",
      "0.756 (+/-0.032) for {'min_samples_split': 21}\n",
      "0.761 (+/-0.031) for {'min_samples_split': 22}\n",
      "0.763 (+/-0.033) for {'min_samples_split': 23}\n",
      "0.759 (+/-0.036) for {'min_samples_split': 24}\n",
      "0.758 (+/-0.034) for {'min_samples_split': 25}\n",
      "0.751 (+/-0.034) for {'min_samples_split': 26}\n",
      "0.751 (+/-0.034) for {'min_samples_split': 27}\n",
      "0.756 (+/-0.033) for {'min_samples_split': 28}\n",
      "0.759 (+/-0.033) for {'min_samples_split': 29}\n",
      "0.759 (+/-0.033) for {'min_samples_split': 30}\n",
      "0.758 (+/-0.034) for {'min_samples_split': 31}\n",
      "0.761 (+/-0.034) for {'min_samples_split': 32}\n",
      "0.763 (+/-0.033) for {'min_samples_split': 33}\n",
      "0.761 (+/-0.034) for {'min_samples_split': 34}\n",
      "0.763 (+/-0.033) for {'min_samples_split': 35}\n",
      "0.761 (+/-0.031) for {'min_samples_split': 36}\n",
      "0.761 (+/-0.031) for {'min_samples_split': 37}\n",
      "0.763 (+/-0.030) for {'min_samples_split': 38}\n",
      "0.764 (+/-0.030) for {'min_samples_split': 39}\n",
      "0.759 (+/-0.037) for {'min_samples_split': 40}\n",
      "0.761 (+/-0.034) for {'min_samples_split': 41}\n",
      "0.761 (+/-0.034) for {'min_samples_split': 42}\n",
      "0.761 (+/-0.034) for {'min_samples_split': 43}\n",
      "0.761 (+/-0.034) for {'min_samples_split': 44}\n",
      "0.761 (+/-0.034) for {'min_samples_split': 45}\n",
      "0.761 (+/-0.034) for {'min_samples_split': 46}\n",
      "0.761 (+/-0.034) for {'min_samples_split': 47}\n",
      "0.761 (+/-0.034) for {'min_samples_split': 48}\n",
      "0.763 (+/-0.033) for {'min_samples_split': 49}\n",
      "0.761 (+/-0.034) for {'min_samples_split': 50}\n",
      "0.763 (+/-0.033) for {'min_samples_split': 51}\n",
      "0.763 (+/-0.033) for {'min_samples_split': 52}\n",
      "0.764 (+/-0.033) for {'min_samples_split': 53}\n",
      "0.764 (+/-0.033) for {'min_samples_split': 54}\n",
      "0.758 (+/-0.037) for {'min_samples_split': 55}\n",
      "0.758 (+/-0.037) for {'min_samples_split': 56}\n",
      "0.753 (+/-0.031) for {'min_samples_split': 57}\n",
      "0.754 (+/-0.032) for {'min_samples_split': 58}\n",
      "0.753 (+/-0.031) for {'min_samples_split': 59}\n",
      "0.753 (+/-0.031) for {'min_samples_split': 60}\n",
      "0.753 (+/-0.031) for {'min_samples_split': 61}\n",
      "0.754 (+/-0.032) for {'min_samples_split': 62}\n",
      "0.753 (+/-0.031) for {'min_samples_split': 63}\n",
      "0.754 (+/-0.032) for {'min_samples_split': 64}\n",
      "0.761 (+/-0.037) for {'min_samples_split': 65}\n",
      "0.761 (+/-0.033) for {'min_samples_split': 66}\n",
      "0.768 (+/-0.040) for {'min_samples_split': 67}\n",
      "0.769 (+/-0.042) for {'min_samples_split': 68}\n",
      "0.761 (+/-0.033) for {'min_samples_split': 69}\n",
      "0.761 (+/-0.033) for {'min_samples_split': 70}\n",
      "0.761 (+/-0.033) for {'min_samples_split': 71}\n",
      "0.768 (+/-0.040) for {'min_samples_split': 72}\n",
      "0.774 (+/-0.033) for {'min_samples_split': 73}\n",
      "0.774 (+/-0.033) for {'min_samples_split': 74}\n",
      "0.774 (+/-0.033) for {'min_samples_split': 75}\n",
      "0.786 (+/-0.034) for {'min_samples_split': 76}\n",
      "0.784 (+/-0.033) for {'min_samples_split': 77}\n",
      "0.784 (+/-0.033) for {'min_samples_split': 78}\n",
      "0.784 (+/-0.033) for {'min_samples_split': 79}\n",
      "0.784 (+/-0.033) for {'min_samples_split': 80}\n",
      "0.784 (+/-0.033) for {'min_samples_split': 81}\n",
      "0.784 (+/-0.033) for {'min_samples_split': 82}\n",
      "0.784 (+/-0.033) for {'min_samples_split': 83}\n",
      "0.784 (+/-0.033) for {'min_samples_split': 84}\n",
      "0.784 (+/-0.033) for {'min_samples_split': 85}\n",
      "0.784 (+/-0.033) for {'min_samples_split': 86}\n",
      "0.784 (+/-0.033) for {'min_samples_split': 87}\n",
      "0.784 (+/-0.033) for {'min_samples_split': 88}\n",
      "0.784 (+/-0.033) for {'min_samples_split': 89}\n",
      "0.784 (+/-0.033) for {'min_samples_split': 90}\n",
      "0.784 (+/-0.033) for {'min_samples_split': 91}\n",
      "0.784 (+/-0.033) for {'min_samples_split': 92}\n",
      "0.784 (+/-0.033) for {'min_samples_split': 93}\n",
      "0.784 (+/-0.033) for {'min_samples_split': 94}\n",
      "0.784 (+/-0.033) for {'min_samples_split': 95}\n",
      "0.784 (+/-0.033) for {'min_samples_split': 96}\n",
      "0.788 (+/-0.035) for {'min_samples_split': 97}\n",
      "0.788 (+/-0.035) for {'min_samples_split': 98}\n",
      "0.788 (+/-0.035) for {'min_samples_split': 99}\n",
      "0.788 (+/-0.035) for {'min_samples_split': 100}\n",
      "0.788 (+/-0.035) for {'min_samples_split': 101}\n",
      "0.798 (+/-0.018) for {'min_samples_split': 102}\n",
      "0.798 (+/-0.018) for {'min_samples_split': 103}\n",
      "0.798 (+/-0.018) for {'min_samples_split': 104}\n",
      "0.798 (+/-0.018) for {'min_samples_split': 105}\n",
      "0.798 (+/-0.018) for {'min_samples_split': 106}\n",
      "0.798 (+/-0.018) for {'min_samples_split': 107}\n",
      "0.798 (+/-0.018) for {'min_samples_split': 108}\n",
      "0.798 (+/-0.018) for {'min_samples_split': 109}\n",
      "0.798 (+/-0.018) for {'min_samples_split': 110}\n",
      "0.774 (+/-0.061) for {'min_samples_split': 111}\n",
      "0.774 (+/-0.061) for {'min_samples_split': 112}\n",
      "0.774 (+/-0.061) for {'min_samples_split': 113}\n",
      "0.774 (+/-0.061) for {'min_samples_split': 114}\n",
      "0.774 (+/-0.061) for {'min_samples_split': 115}\n",
      "0.774 (+/-0.061) for {'min_samples_split': 116}\n",
      "0.774 (+/-0.061) for {'min_samples_split': 117}\n",
      "0.768 (+/-0.059) for {'min_samples_split': 118}\n",
      "0.759 (+/-0.054) for {'min_samples_split': 119}\n",
      "0.759 (+/-0.054) for {'min_samples_split': 120}\n",
      "0.759 (+/-0.054) for {'min_samples_split': 121}\n",
      "0.759 (+/-0.054) for {'min_samples_split': 122}\n",
      "0.759 (+/-0.054) for {'min_samples_split': 123}\n",
      "0.759 (+/-0.054) for {'min_samples_split': 124}\n",
      "0.759 (+/-0.054) for {'min_samples_split': 125}\n",
      "0.759 (+/-0.054) for {'min_samples_split': 126}\n",
      "0.749 (+/-0.047) for {'min_samples_split': 127}\n",
      "0.749 (+/-0.047) for {'min_samples_split': 128}\n",
      "0.749 (+/-0.047) for {'min_samples_split': 129}\n",
      "0.749 (+/-0.047) for {'min_samples_split': 130}\n",
      "0.749 (+/-0.047) for {'min_samples_split': 131}\n",
      "0.749 (+/-0.047) for {'min_samples_split': 132}\n",
      "0.749 (+/-0.047) for {'min_samples_split': 133}\n",
      "0.749 (+/-0.047) for {'min_samples_split': 134}\n",
      "0.749 (+/-0.047) for {'min_samples_split': 135}\n",
      "0.747 (+/-0.046) for {'min_samples_split': 136}\n",
      "0.747 (+/-0.046) for {'min_samples_split': 137}\n",
      "0.747 (+/-0.046) for {'min_samples_split': 138}\n",
      "0.747 (+/-0.046) for {'min_samples_split': 139}\n",
      "0.747 (+/-0.046) for {'min_samples_split': 140}\n",
      "0.747 (+/-0.046) for {'min_samples_split': 141}\n",
      "0.747 (+/-0.046) for {'min_samples_split': 142}\n",
      "0.747 (+/-0.046) for {'min_samples_split': 143}\n",
      "0.747 (+/-0.046) for {'min_samples_split': 144}\n",
      "0.747 (+/-0.046) for {'min_samples_split': 145}\n",
      "0.747 (+/-0.046) for {'min_samples_split': 146}\n",
      "0.747 (+/-0.046) for {'min_samples_split': 147}\n",
      "0.747 (+/-0.046) for {'min_samples_split': 148}\n",
      "0.747 (+/-0.046) for {'min_samples_split': 149}\n",
      "0.747 (+/-0.046) for {'min_samples_split': 150}\n",
      "0.747 (+/-0.046) for {'min_samples_split': 151}\n",
      "0.747 (+/-0.046) for {'min_samples_split': 152}\n",
      "0.747 (+/-0.046) for {'min_samples_split': 153}\n",
      "0.747 (+/-0.046) for {'min_samples_split': 154}\n",
      "0.747 (+/-0.046) for {'min_samples_split': 155}\n",
      "0.747 (+/-0.046) for {'min_samples_split': 156}\n",
      "0.747 (+/-0.046) for {'min_samples_split': 157}\n",
      "0.747 (+/-0.046) for {'min_samples_split': 158}\n",
      "0.747 (+/-0.046) for {'min_samples_split': 159}\n",
      "0.747 (+/-0.046) for {'min_samples_split': 160}\n"
     ]
    }
   ],
   "source": [
    "#Generate grid search\n",
    "minSamples = 160\n",
    "hyperParams = {'min_samples_split': range(2,minSamples+1)}\n",
    "\n",
    "#Create an instance of DecisionTree Classifier and fit the data for the grid parameters\n",
    "modelCV = GridSearchCV(tree.DecisionTreeClassifier(criterion='entropy'), \n",
    "                     hyperParams, cv=5, scoring='accuracy')\n",
    "modelCV.fit(xTrain, yTrain)\n",
    "print \"Best hyperparameter\", modelCV.best_params_\n",
    "print \"\\n\\n\"\n",
    "\n",
    "sampList, errList, devList = [], [], []\n",
    "for hyperP, mean_score, scores in modelCV.grid_scores_:\n",
    "    print(\"%0.3f (+/-%0.03f) for %r\"\n",
    "              % (mean_score, scores.std(), hyperP))\n",
    "    sampList.append(hyperP['min_samples_split'])\n",
    "    errList.append(1-mean_score)\n",
    "    devList.append(scores.std())\n",
    "\n",
    "    "
   ]
  },
  {
   "cell_type": "markdown",
   "metadata": {},
   "source": [
    "Gráfica con el error de validación cruzada frente al valor del hiperparámetro:"
   ]
  },
  {
   "cell_type": "code",
   "execution_count": 14,
   "metadata": {},
   "outputs": [
    {
     "data": {
      "image/png": "[encoded data removed]",
      "text/plain": [
       "<Figure size 720x432 with 1 Axes>"
      ]
     },
     "metadata": {},
     "output_type": "display_data"
    }
   ],
   "source": [
    "plt.figure(figsize=(10,6))\n",
    "plt.errorbar(sampList, errList, yerr=devList)\n",
    "plt.xlim(sampList[0]-1, sampList[len(sampList)-1]+1)\n",
    "plt.show()"
   ]
  },
  {
   "cell_type": "markdown",
   "metadata": {},
   "source": [
    "A continuación mostramos el menor error de entrenamiento, la desviación estándar y el valor del hiperparámetro con el que se corresponde."
   ]
  },
  {
   "cell_type": "code",
   "execution_count": 15,
   "metadata": {},
   "outputs": [
    {
     "name": "stdout",
     "output_type": "stream",
     "text": [
      "Mejor parámetro: 102\n",
      "Error de entrenamiento:  0.202341137124\n",
      "Std:  0.017582529225932283\n"
     ]
    }
   ],
   "source": [
    "##Menor error CV\n",
    "best_param_cv = modelCV.best_params_['min_samples_split']\n",
    "print \"Mejor parámetro:\" , best_param_cv\n",
    "print \"Error de entrenamiento: \", errList[best_param_cv-2] \n",
    "print \"Std: \", devList[best_param_cv-2]"
   ]
  },
  {
   "cell_type": "markdown",
   "metadata": {},
   "source": [
    "Aplicamos ahora la regla de una desviación estándar. Para ello, construimos una lista con todos los hiperparámetros que cumplen que su error es menor que el error del mejor modelo más la desviación estándar de ese modelo. Una vez tenemos esta lista, únicamente hemos de obtener el máximo de la misma, ya que cuanto mayor sea el mínimo número de muestras necesarias para un split, más simple será el modelo."
   ]
  },
  {
   "cell_type": "code",
   "execution_count": 16,
   "metadata": {
    "scrolled": true
   },
   "outputs": [
    {
     "name": "stdout",
     "output_type": "stream",
     "text": [
      "Valor del hiperparámetro si se aplicase la regla de una desviación estándar:  110\n",
      "El error de entrenamiento para ese valor del hiperparámetro es:  0.202341137124\n"
     ]
    }
   ],
   "source": [
    "dev_best_model = devList[best_param_cv-2]\n",
    "params_one_dev = [sampList[i] for i in range(0,minSamples-1) if errList[i] < errList[best_param_cv-2] + dev_best_model]\n",
    "best_param_one_dev = max(params_one_dev)\n",
    "print \"Valor del hiperparámetro si se aplicase la regla de una desviación estándar: \", best_param_one_dev\n",
    "print \"El error de entrenamiento para ese valor del hiperparámetro es: \", errList[best_param_one_dev-2]"
   ]
  },
  {
   "cell_type": "markdown",
   "metadata": {},
   "source": [
    "Obtenemos a continuación la predicción en test para cada valor del hiperparámetro, y guardamos su error."
   ]
  },
  {
   "cell_type": "code",
   "execution_count": 17,
   "metadata": {},
   "outputs": [],
   "source": [
    "#Test error\n",
    "testErrList=[]\n",
    "for nSamples in range(2, minSamples+1):\n",
    "    model = tree.DecisionTreeClassifier(min_samples_split = nSamples)\n",
    "    model.fit(xTrain, yTrain)\n",
    "    yPred=model.predict(xTest)\n",
    "    testErrList.append(1-metrics.accuracy_score(yTest,yPred))"
   ]
  },
  {
   "cell_type": "markdown",
   "metadata": {},
   "source": [
    "A continuación mostramos el error de test, y el error de test comparado con el de entrenamiento."
   ]
  },
  {
   "cell_type": "code",
   "execution_count": 18,
   "metadata": {},
   "outputs": [
    {
     "data": {
      "text/plain": [
       "<ErrorbarContainer object of 3 artists>"
      ]
     },
     "execution_count": 18,
     "metadata": {},
     "output_type": "execute_result"
    },
    {
     "data": {
      "image/png": "[encoded data removed]",
      "text/plain": [
       "<Figure size 1116x396 with 2 Axes>"
      ]
     },
     "metadata": {},
     "output_type": "display_data"
    }
   ],
   "source": [
    "fig, axs = plt.subplots(ncols=2, figsize=(15.5, 5.5))\n",
    "\n",
    "axs[0].errorbar(sampList, testErrList)\n",
    "plt.xlim(sampList[0]-1, sampList[len(sampList)-1]+1)\n",
    "\n",
    "axs[1].errorbar(sampList, errList, yerr=devList)\n",
    "plt.xlim(sampList[0]-1, sampList[len(sampList)-1]+1)\n",
    "axs[1].errorbar(sampList, testErrList) \n"
   ]
  },
  {
   "cell_type": "markdown",
   "metadata": {},
   "source": [
    "Menor error de test y errores de test para el mejor hiperparámetro de la cross validación y de la regla de una desviación estándar:"
   ]
  },
  {
   "cell_type": "code",
   "execution_count": 19,
   "metadata": {},
   "outputs": [
    {
     "name": "stdout",
     "output_type": "stream",
     "text": [
      "Menor error de test:  0.21333333333333337  conseguido para el parámetro min_samples_split = 126\n",
      "Error de test para el parámetro min_samples_split = 102  elegido por la CV: 0.21999999999999997\n",
      "Error de test para el parámetro min_samples_split = 110  elegido por el método one standard error rule:  0.21999999999999997\n"
     ]
    }
   ],
   "source": [
    "best_param_test = np.argmin(testErrList)+2\n",
    "print \"Menor error de test: \", min(testErrList), \" conseguido para el parámetro min_samples_split =\", best_param_test\n",
    "print \"Error de test para el parámetro min_samples_split =\", best_param_cv ,\" elegido por la CV:\", testErrList[best_param_cv-2]\n",
    "print \"Error de test para el parámetro min_samples_split =\", best_param_one_dev, \" elegido por el método one standard error rule: \", testErrList[best_param_one_dev-2]\n"
   ]
  },
  {
   "cell_type": "markdown",
   "metadata": {},
   "source": [
    "# Ejercicio 3"
   ]
  },
  {
   "cell_type": "markdown",
   "metadata": {},
   "source": [
    "Fijamos la semilla y dividimos en train/test como en el ejercicio anterior."
   ]
  },
  {
   "cell_type": "code",
   "execution_count": 20,
   "metadata": {},
   "outputs": [],
   "source": [
    "np.random.seed(1)\n",
    "datasetName = '../datos/EnergyEfficiency.data'\n",
    "datasetDelimiter = ','\n",
    "\n",
    "# load the CSV file as a numpy matrix\n",
    "dataset_energy = np.loadtxt(datasetName, skiprows=1, delimiter=datasetDelimiter)\n",
    "\n",
    "xRaw2 = dataset_energy[:,0:dataset_energy.shape[1]-1]\n",
    "y2 = dataset_energy[:,dataset_energy.shape[1]-1]\n",
    "\n",
    "xTrain2, xTest2, yTrain2, yTest2 = cross_validation.train_test_split(xRaw2, y2, test_size=0.2)\n"
   ]
  },
  {
   "cell_type": "markdown",
   "metadata": {},
   "source": [
    "El proceso de entrenamiento es el mismo que en el caso anterior, pero utilizando el algoritmo `DecisionTreeRegressor`, siendo la medida de error el error cuadrático medio, que por defecto viene en `scikit-learn` en negativo. Por ello, cuando añadimos el error a la lista de errores, le cambiamos el signo."
   ]
  },
  {
   "cell_type": "code",
   "execution_count": 21,
   "metadata": {
    "scrolled": true
   },
   "outputs": [
    {
     "name": "stdout",
     "output_type": "stream",
     "text": [
      "Best hyperparameter {'min_samples_split': 15}\n",
      "\n",
      "\n",
      "\n",
      "4.592 (+/-0.579) for {'min_samples_split': 2}\n",
      "4.533 (+/-0.803) for {'min_samples_split': 3}\n",
      "4.693 (+/-0.917) for {'min_samples_split': 4}\n",
      "4.558 (+/-0.658) for {'min_samples_split': 5}\n",
      "4.557 (+/-0.715) for {'min_samples_split': 6}\n",
      "4.591 (+/-0.794) for {'min_samples_split': 7}\n",
      "4.421 (+/-0.737) for {'min_samples_split': 8}\n",
      "4.266 (+/-0.817) for {'min_samples_split': 9}\n",
      "4.044 (+/-0.652) for {'min_samples_split': 10}\n",
      "3.719 (+/-0.651) for {'min_samples_split': 11}\n",
      "3.673 (+/-0.575) for {'min_samples_split': 12}\n",
      "3.541 (+/-0.660) for {'min_samples_split': 13}\n",
      "3.519 (+/-0.659) for {'min_samples_split': 14}\n",
      "3.401 (+/-0.688) for {'min_samples_split': 15}\n",
      "3.602 (+/-0.588) for {'min_samples_split': 16}\n",
      "3.679 (+/-0.642) for {'min_samples_split': 17}\n",
      "3.609 (+/-0.557) for {'min_samples_split': 18}\n",
      "3.549 (+/-0.567) for {'min_samples_split': 19}\n",
      "3.548 (+/-0.567) for {'min_samples_split': 20}\n",
      "3.549 (+/-0.565) for {'min_samples_split': 21}\n",
      "3.535 (+/-0.599) for {'min_samples_split': 22}\n",
      "3.534 (+/-0.690) for {'min_samples_split': 23}\n",
      "3.532 (+/-0.672) for {'min_samples_split': 24}\n",
      "3.558 (+/-0.652) for {'min_samples_split': 25}\n",
      "3.578 (+/-0.602) for {'min_samples_split': 26}\n",
      "3.558 (+/-0.587) for {'min_samples_split': 27}\n",
      "3.601 (+/-0.589) for {'min_samples_split': 28}\n",
      "3.629 (+/-0.592) for {'min_samples_split': 29}\n",
      "3.639 (+/-0.613) for {'min_samples_split': 30}\n",
      "3.664 (+/-0.637) for {'min_samples_split': 31}\n",
      "3.669 (+/-0.635) for {'min_samples_split': 32}\n",
      "3.899 (+/-0.557) for {'min_samples_split': 33}\n",
      "3.949 (+/-0.502) for {'min_samples_split': 34}\n",
      "4.024 (+/-0.450) for {'min_samples_split': 35}\n",
      "4.120 (+/-0.233) for {'min_samples_split': 36}\n",
      "4.278 (+/-0.230) for {'min_samples_split': 37}\n",
      "4.271 (+/-0.223) for {'min_samples_split': 38}\n",
      "4.487 (+/-0.509) for {'min_samples_split': 39}\n",
      "4.487 (+/-0.509) for {'min_samples_split': 40}\n",
      "4.487 (+/-0.509) for {'min_samples_split': 41}\n",
      "4.544 (+/-0.512) for {'min_samples_split': 42}\n",
      "4.674 (+/-0.485) for {'min_samples_split': 43}\n",
      "4.696 (+/-0.484) for {'min_samples_split': 44}\n",
      "4.709 (+/-0.464) for {'min_samples_split': 45}\n",
      "4.732 (+/-0.500) for {'min_samples_split': 46}\n",
      "4.798 (+/-0.448) for {'min_samples_split': 47}\n",
      "4.965 (+/-0.341) for {'min_samples_split': 48}\n",
      "5.031 (+/-0.462) for {'min_samples_split': 49}\n",
      "5.123 (+/-0.438) for {'min_samples_split': 50}\n",
      "5.215 (+/-0.492) for {'min_samples_split': 51}\n",
      "5.448 (+/-0.383) for {'min_samples_split': 52}\n",
      "5.435 (+/-0.376) for {'min_samples_split': 53}\n",
      "5.435 (+/-0.376) for {'min_samples_split': 54}\n",
      "5.435 (+/-0.375) for {'min_samples_split': 55}\n",
      "5.492 (+/-0.306) for {'min_samples_split': 56}\n",
      "5.497 (+/-0.309) for {'min_samples_split': 57}\n",
      "5.497 (+/-0.309) for {'min_samples_split': 58}\n",
      "5.589 (+/-0.451) for {'min_samples_split': 59}\n",
      "5.672 (+/-0.532) for {'min_samples_split': 60}\n",
      "5.674 (+/-0.530) for {'min_samples_split': 61}\n",
      "5.741 (+/-0.589) for {'min_samples_split': 62}\n",
      "5.856 (+/-0.632) for {'min_samples_split': 63}\n",
      "5.856 (+/-0.632) for {'min_samples_split': 64}\n",
      "5.881 (+/-0.605) for {'min_samples_split': 65}\n",
      "5.881 (+/-0.605) for {'min_samples_split': 66}\n",
      "5.892 (+/-0.592) for {'min_samples_split': 67}\n",
      "5.911 (+/-0.601) for {'min_samples_split': 68}\n",
      "5.911 (+/-0.601) for {'min_samples_split': 69}\n",
      "5.911 (+/-0.601) for {'min_samples_split': 70}\n",
      "5.911 (+/-0.601) for {'min_samples_split': 71}\n",
      "5.911 (+/-0.601) for {'min_samples_split': 72}\n",
      "5.911 (+/-0.601) for {'min_samples_split': 73}\n",
      "5.911 (+/-0.601) for {'min_samples_split': 74}\n",
      "5.911 (+/-0.601) for {'min_samples_split': 75}\n",
      "6.023 (+/-0.743) for {'min_samples_split': 76}\n",
      "6.121 (+/-0.641) for {'min_samples_split': 77}\n",
      "6.121 (+/-0.641) for {'min_samples_split': 78}\n",
      "6.191 (+/-0.521) for {'min_samples_split': 79}\n",
      "6.241 (+/-0.611) for {'min_samples_split': 80}\n",
      "6.241 (+/-0.611) for {'min_samples_split': 81}\n",
      "6.375 (+/-0.518) for {'min_samples_split': 82}\n",
      "6.675 (+/-0.767) for {'min_samples_split': 83}\n",
      "6.685 (+/-0.778) for {'min_samples_split': 84}\n",
      "6.685 (+/-0.778) for {'min_samples_split': 85}\n",
      "7.087 (+/-0.529) for {'min_samples_split': 86}\n",
      "7.294 (+/-0.325) for {'min_samples_split': 87}\n",
      "7.294 (+/-0.325) for {'min_samples_split': 88}\n",
      "7.294 (+/-0.325) for {'min_samples_split': 89}\n",
      "7.294 (+/-0.325) for {'min_samples_split': 90}\n",
      "7.480 (+/-0.522) for {'min_samples_split': 91}\n",
      "7.480 (+/-0.522) for {'min_samples_split': 92}\n",
      "7.480 (+/-0.522) for {'min_samples_split': 93}\n",
      "7.480 (+/-0.522) for {'min_samples_split': 94}\n",
      "7.480 (+/-0.522) for {'min_samples_split': 95}\n",
      "7.480 (+/-0.522) for {'min_samples_split': 96}\n",
      "7.604 (+/-0.486) for {'min_samples_split': 97}\n",
      "7.604 (+/-0.486) for {'min_samples_split': 98}\n",
      "7.604 (+/-0.486) for {'min_samples_split': 99}\n",
      "7.604 (+/-0.486) for {'min_samples_split': 100}\n",
      "7.676 (+/-0.420) for {'min_samples_split': 101}\n",
      "7.692 (+/-0.415) for {'min_samples_split': 102}\n",
      "7.825 (+/-0.636) for {'min_samples_split': 103}\n",
      "7.862 (+/-0.592) for {'min_samples_split': 104}\n",
      "7.862 (+/-0.592) for {'min_samples_split': 105}\n",
      "7.916 (+/-0.623) for {'min_samples_split': 106}\n",
      "7.939 (+/-0.617) for {'min_samples_split': 107}\n",
      "7.939 (+/-0.617) for {'min_samples_split': 108}\n",
      "7.939 (+/-0.617) for {'min_samples_split': 109}\n",
      "8.215 (+/-0.861) for {'min_samples_split': 110}\n",
      "8.215 (+/-0.861) for {'min_samples_split': 111}\n",
      "8.215 (+/-0.861) for {'min_samples_split': 112}\n",
      "8.215 (+/-0.861) for {'min_samples_split': 113}\n",
      "8.215 (+/-0.861) for {'min_samples_split': 114}\n",
      "8.215 (+/-0.861) for {'min_samples_split': 115}\n",
      "8.215 (+/-0.861) for {'min_samples_split': 116}\n",
      "8.215 (+/-0.861) for {'min_samples_split': 117}\n",
      "8.215 (+/-0.861) for {'min_samples_split': 118}\n",
      "8.215 (+/-0.861) for {'min_samples_split': 119}\n",
      "8.215 (+/-0.861) for {'min_samples_split': 120}\n",
      "8.215 (+/-0.861) for {'min_samples_split': 121}\n",
      "8.215 (+/-0.861) for {'min_samples_split': 122}\n",
      "8.215 (+/-0.861) for {'min_samples_split': 123}\n",
      "8.215 (+/-0.861) for {'min_samples_split': 124}\n",
      "8.215 (+/-0.861) for {'min_samples_split': 125}\n",
      "8.215 (+/-0.861) for {'min_samples_split': 126}\n",
      "8.215 (+/-0.861) for {'min_samples_split': 127}\n",
      "8.215 (+/-0.861) for {'min_samples_split': 128}\n",
      "8.215 (+/-0.861) for {'min_samples_split': 129}\n",
      "8.215 (+/-0.861) for {'min_samples_split': 130}\n",
      "8.215 (+/-0.861) for {'min_samples_split': 131}\n",
      "8.215 (+/-0.861) for {'min_samples_split': 132}\n",
      "8.215 (+/-0.861) for {'min_samples_split': 133}\n",
      "8.215 (+/-0.861) for {'min_samples_split': 134}\n",
      "8.215 (+/-0.861) for {'min_samples_split': 135}\n",
      "8.215 (+/-0.861) for {'min_samples_split': 136}\n",
      "8.215 (+/-0.861) for {'min_samples_split': 137}\n",
      "8.215 (+/-0.861) for {'min_samples_split': 138}\n",
      "8.215 (+/-0.861) for {'min_samples_split': 139}\n",
      "8.215 (+/-0.861) for {'min_samples_split': 140}\n",
      "8.215 (+/-0.861) for {'min_samples_split': 141}\n",
      "8.215 (+/-0.861) for {'min_samples_split': 142}\n",
      "8.215 (+/-0.861) for {'min_samples_split': 143}\n",
      "8.215 (+/-0.861) for {'min_samples_split': 144}\n",
      "8.215 (+/-0.861) for {'min_samples_split': 145}\n",
      "8.215 (+/-0.861) for {'min_samples_split': 146}\n",
      "8.215 (+/-0.861) for {'min_samples_split': 147}\n",
      "8.215 (+/-0.861) for {'min_samples_split': 148}\n",
      "8.215 (+/-0.861) for {'min_samples_split': 149}\n",
      "8.215 (+/-0.861) for {'min_samples_split': 150}\n",
      "8.215 (+/-0.861) for {'min_samples_split': 151}\n",
      "8.215 (+/-0.861) for {'min_samples_split': 152}\n",
      "8.215 (+/-0.861) for {'min_samples_split': 153}\n",
      "8.215 (+/-0.861) for {'min_samples_split': 154}\n",
      "8.215 (+/-0.861) for {'min_samples_split': 155}\n",
      "8.925 (+/-0.695) for {'min_samples_split': 156}\n",
      "8.925 (+/-0.695) for {'min_samples_split': 157}\n",
      "8.925 (+/-0.695) for {'min_samples_split': 158}\n",
      "8.925 (+/-0.695) for {'min_samples_split': 159}\n",
      "9.275 (+/-0.204) for {'min_samples_split': 160}\n"
     ]
    }
   ],
   "source": [
    "#Generate grid search\n",
    "minSamples2 = 160\n",
    "hyperParams2 = {'min_samples_split': range(2,minSamples2+1)}\n",
    "\n",
    "#Create an instance of DecisionTree Regressor and fit the data for the grid parameters\n",
    "modelCV2 = GridSearchCV(tree.DecisionTreeRegressor(), \n",
    "                     hyperParams2, cv=5, scoring='neg_mean_squared_error')\n",
    "modelCV2.fit(xTrain2, yTrain2)\n",
    "print \"Best hyperparameter\", modelCV2.best_params_\n",
    "print \"\\n\\n\"\n",
    "\n",
    "sampList2, errList2, devList2 = [], [], []\n",
    "for hyperP, mean_score, scores in modelCV2.grid_scores_:\n",
    "    print(\"%0.3f (+/-%0.03f) for %r\"\n",
    "              % (-mean_score, scores.std(), hyperP))\n",
    "    sampList2.append(hyperP['min_samples_split'])\n",
    "    errList2.append(-mean_score)\n",
    "    devList2.append(scores.std())"
   ]
  },
  {
   "cell_type": "markdown",
   "metadata": {},
   "source": [
    "Gráfica del error de entrenamiento:"
   ]
  },
  {
   "cell_type": "code",
   "execution_count": 22,
   "metadata": {},
   "outputs": [
    {
     "data": {
      "image/png": "[encoded data removed]",
      "text/plain": [
       "<Figure size 720x432 with 1 Axes>"
      ]
     },
     "metadata": {},
     "output_type": "display_data"
    }
   ],
   "source": [
    "plt.figure(figsize=(10,6))\n",
    "plt.errorbar(sampList2, errList2, yerr=devList2)\n",
    "plt.xlim(sampList2[0]-1, sampList2[len(sampList2)-1]+1)\n",
    "plt.show()"
   ]
  },
  {
   "cell_type": "markdown",
   "metadata": {},
   "source": [
    "Menor error de entrenamiento, su hiperparámetro y su desviación típica:"
   ]
  },
  {
   "cell_type": "code",
   "execution_count": 23,
   "metadata": {},
   "outputs": [
    {
     "name": "stdout",
     "output_type": "stream",
     "text": [
      "Mejor hiperparámetro: 15\n",
      "\n",
      "Error de entrenamiento:  3.40092753465\n",
      "\n",
      "Std:  0.6883596166108655\n"
     ]
    }
   ],
   "source": [
    "##Menor error CV\n",
    "best_param_cv2 = modelCV2.best_params_['min_samples_split']\n",
    "print \"Mejor hiperparámetro:\" , best_param_cv2\n",
    "print \"\\nError de entrenamiento: \", errList2[best_param_cv2-2]\n",
    "print \"\\nStd: \", devList2[best_param_cv2-2]"
   ]
  },
  {
   "cell_type": "markdown",
   "metadata": {},
   "source": [
    "Obtenemos el mejor hiperparámetro atendiendo a la regla de una desviación estándar como en el ejercicio anterior."
   ]
  },
  {
   "cell_type": "code",
   "execution_count": 24,
   "metadata": {},
   "outputs": [
    {
     "name": "stdout",
     "output_type": "stream",
     "text": [
      "Valor del hiperparámetro si se aplicase la regla de una desviación estándar:  35\n",
      "El error de entrenamiento para ese valor del hiperparámetro es:  4.02406622018\n"
     ]
    }
   ],
   "source": [
    "dev_best_model2 = devList2[best_param_cv2-2]\n",
    "params_one_dev2 = [sampList2[i] for i in range(0,minSamples2-1) if errList2[i] < errList2[best_param_cv2-2] + dev_best_model2]\n",
    "best_param_one_dev2 = max(params_one_dev2)\n",
    "print \"Valor del hiperparámetro si se aplicase la regla de una desviación estándar: \", best_param_one_dev2\n",
    "print \"El error de entrenamiento para ese valor del hiperparámetro es: \", errList2[best_param_one_dev2-2]"
   ]
  },
  {
   "cell_type": "markdown",
   "metadata": {},
   "source": [
    "Obtenemos el error de test para cada hiperparámetro."
   ]
  },
  {
   "cell_type": "code",
   "execution_count": 25,
   "metadata": {},
   "outputs": [],
   "source": [
    "#Test error\n",
    "testErrList2=[]\n",
    "for nSamples in range(2, minSamples2+1):\n",
    "    model = tree.DecisionTreeRegressor(min_samples_split = nSamples)\n",
    "    model.fit(xTrain2, yTrain2)\n",
    "    yPred=model.predict(xTest2)\n",
    "    testErrList2.append(metrics.mean_squared_error(yTest2,yPred))"
   ]
  },
  {
   "cell_type": "markdown",
   "metadata": {},
   "source": [
    "Gráficas con el error de test y el error de entrenamiento comparado con el de test, con respecto al valor del hiperparámetro."
   ]
  },
  {
   "cell_type": "code",
   "execution_count": 26,
   "metadata": {},
   "outputs": [
    {
     "data": {
      "text/plain": [
       "<ErrorbarContainer object of 3 artists>"
      ]
     },
     "execution_count": 26,
     "metadata": {},
     "output_type": "execute_result"
    },
    {
     "data": {
      "image/png": "[encoded data removed]",
      "text/plain": [
       "<Figure size 1116x396 with 2 Axes>"
      ]
     },
     "metadata": {},
     "output_type": "display_data"
    }
   ],
   "source": [
    "fig, axs = plt.subplots(ncols=2, figsize=(15.5, 5.5))\n",
    "\n",
    "axs[0].errorbar(sampList2, testErrList2)\n",
    "plt.xlim(sampList2[0]-1, sampList2[len(sampList2)-1]+1)\n",
    "\n",
    "axs[1].errorbar(sampList2, errList2, yerr=devList2)\n",
    "plt.xlim(sampList2[0]-1, sampList2[len(sampList2)-1]+1)\n",
    "axs[1].errorbar(sampList2, testErrList2) "
   ]
  },
  {
   "cell_type": "markdown",
   "metadata": {},
   "source": [
    "Mostramos el menor error de test, y el error de test para el mejor hiperparámetro de la cross validación y la regla de una desviación estándar."
   ]
  },
  {
   "cell_type": "code",
   "execution_count": 27,
   "metadata": {},
   "outputs": [
    {
     "name": "stdout",
     "output_type": "stream",
     "text": [
      "Menor error de test:  3.49205180826997  conseguido para el parámetro min_samples_split = 25\n",
      "Error de test para el parámetro min_samples_split = 15 elegido por la CV: 4.870069961576669\n",
      "Error de test para el parámetro min_samples_split = 35 elegido por el método one standard error rule:  3.970902655899423\n"
     ]
    }
   ],
   "source": [
    "best_param_test2 = np.argmin(testErrList2)+2\n",
    "print \"Menor error de test: \", min(testErrList2), \" conseguido para el parámetro min_samples_split =\", best_param_test2\n",
    "print \"Error de test para el parámetro min_samples_split =\", best_param_cv2,\"elegido por la CV:\", testErrList2[best_param_cv2-2]\n",
    "print \"Error de test para el parámetro min_samples_split =\", best_param_one_dev2, \"elegido por el método one standard error rule: \", testErrList2[best_param_one_dev2-2]"
   ]
  }
 ],
 "metadata": {
  "kernelspec": {
   "display_name": "Python 2",
   "language": "python",
   "name": "python2"
  },
  "language_info": {
   "codemirror_mode": {
    "name": "ipython",
    "version": 2
   },
   "file_extension": ".py",
   "mimetype": "text/x-python",
   "name": "python",
   "nbconvert_exporter": "python",
   "pygments_lexer": "ipython2",
   "version": "2.7.15+"
  }
 },
 "nbformat": 4,
 "nbformat_minor": 2
}
